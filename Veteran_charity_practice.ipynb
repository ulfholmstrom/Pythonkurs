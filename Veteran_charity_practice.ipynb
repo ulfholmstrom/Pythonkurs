{
 "cells": [
  {
   "cell_type": "markdown",
   "metadata": {},
   "source": [
    "# Bakgrund\n",
    "\n",
    "I machinelearning exemplet så tog vi fram en Random Forrest modell. I princip gjorde vi ett minimum av beskrivande statistik. Vi läste in datat och tryckte på med modellen. Om det inte finns något behov av att förstå modellen så är denna metodik OK. Dock är oftast en bra idé att först börja med ett grundläggande arbete med att på olika sätt förstå sitt data. Oftast är det denna del som tar 80% av arbetet för en analytiker: att förstå och transformera datat till ett sådant skick att man kan applicera en modell på det. För att kunna fungera som en självgående Data Scientist måste man kunna arbeta med data. Nedan förslag på några övningar där vi praktiserar de exempel som jag visade i tidigare notebooks. Vi använder samma data som i machinelearning exemplet men nu gör vi det nödvändiga förarbetet. I notebooken Veteran_charity_solutions ligger exempel på hur man kan lösa dessa uppgifter.\n",
    "\n",
    "__En mycket bra resurs att söka hjälp i är pandas egen dokumentation: https://pandas.pydata.org/pandas-docs/stable/getting_started/comparison/comparison_with_sas.html__\n",
    "\n",
    "__I Table of Contents finns \"Comparison with SAS\". I denna så jämför man pandas med SAS utifrån flera olika perspektiv. Jag brukar alltid ha den öppen när jag arbetar med analys i pandas__\n",
    "\n",
    "\n",
    "\n",
    "__The veteran dataset contains 44 variables that describes the features for givers and non-givers for a charity campaign. The label that defines a donation is Target_B.__ \n",
    "\n",
    "\n",
    "- Target_B = 1: Donation\n",
    "- Target_B = 0: No donation \n",
    "\n",
    "__Vi genomför ett antal övningar för att ta fram beskrivande statistik__"
   ]
  },
  {
   "cell_type": "markdown",
   "metadata": {},
   "source": [
    "__1. Börja med att importera nödvändiga moduler: pandas, numpy och matplotlib.pylab klassen__"
   ]
  },
  {
   "cell_type": "markdown",
   "metadata": {},
   "source": [
    "__2. Importera veteran_brutto.csv med lämplig pandas funktion Använd head() metoden för att titta på datat__"
   ]
  },
  {
   "cell_type": "markdown",
   "metadata": {},
   "source": [
    "__3. Ta fram information om variablerna. Använd info() metoden__"
   ]
  },
  {
   "cell_type": "markdown",
   "metadata": {},
   "source": [
    "__4. Variabeln DONOR_AGE innehåller missing. Idenfiera missing och ersätt med medianen för DONOR_AGE.__\n",
    "* Beräkna medianen för DONOR_AGE, referera med variabeln med_age. Använd metoden median() på DONOR_AGE.\n",
    "* Imputera med_age på de rader i dataframen som innehåller missing NaN. Använd metoden fillna() och skicka in med_age som argument.\n",
    "* Checka med info() metoden igen att variabeln inte innehåller missing"
   ]
  },
  {
   "cell_type": "markdown",
   "metadata": {
    "collapsed": true
   },
   "source": [
    "__5. Hur många har donerat, respektive inte donerat? Använd value_counts() metoden__"
   ]
  },
  {
   "cell_type": "markdown",
   "metadata": {},
   "source": [
    "__6. Andel donatorer i datat? Dela med antalet observationer i dataframen - len() funktionen. Denna räknar antalet observationer i dataframen. Namnet på dataframen skickas in som argument__"
   ]
  },
  {
   "cell_type": "markdown",
   "metadata": {},
   "source": [
    "__7. Fördelning kön totalt i datasetet? Vad är konstigt här?__"
   ]
  },
  {
   "cell_type": "markdown",
   "metadata": {},
   "source": [
    "__8. Filtrera bort de som inte är män eller kvinnor. Använd sedan den skapade dataframen i de fortsatta övningarna. Räkna antalet observationer i den filtrerade dataframen med len() funktion__\n",
    "\n",
    "__För att checka ett bolean uttryck i en lista så används isin() metoden som appliceras mot vald variabel och checkas mot en lista__"
   ]
  },
  {
   "cell_type": "markdown",
   "metadata": {},
   "source": [
    "__9. Hur ser fördelningen ut för de som donerat mellan män och kvinnor?. Använd dataframen du skapade ovan__\n",
    "__Filtrera på TARGET_B, välj sedan metoden value_counts()__"
   ]
  },
  {
   "cell_type": "markdown",
   "metadata": {},
   "source": [
    "__10. Finns det någon skillnad i inkomst per capita för de som donerar eller ej?__\n",
    "__Gruppera på TARGET_B, applicera sedan mean() metoden på det grupperade objektet. Glöm inte av välja variabel att applicera metoden på__"
   ]
  },
  {
   "cell_type": "markdown",
   "metadata": {},
   "source": [
    "__11. Skapa ett grupperat objekt på 'DONOR_GENDER' och 'TARGET_B'. Referera objekted med variabeln grouped_gen_target__"
   ]
  },
  {
   "cell_type": "markdown",
   "metadata": {},
   "source": [
    "__12. Apply-Split-Combine. Använd agg metoden för att ta fram medelvärde, min och max för per capita income  på det grupperade objektet  grouped_gen_target__"
   ]
  },
  {
   "cell_type": "markdown",
   "metadata": {},
   "source": [
    "__13. Lägg till variabeln MEDIAN_HOUSEHOLD_INCOME i uttrycket ovan och kör koden igen__"
   ]
  },
  {
   "cell_type": "markdown",
   "metadata": {},
   "source": [
    "__14. Vilket kluster har den högsta andelen givare? När man gör en statistisk modell börjar man alltid med att titta på sitt data. Machinelaerning handlar mer om att cruncha data och få fram något som fungerar. Vad som driver modellen kan i många fall bli svårt att förstå. Syftet med denna övning är att ta fram andelen donatorer i varje kluster och sedan plocka fram de fem kluster med högst andel. Här kommer vi att använda metoder som är lite nya. Man kan säkert lösa detta på flera sätt. Nedan lite hjälp som visar hur jag gjorde det__\n",
    "* Skapa två dataframes - ett som innehåller totala antalet personer i varje kluster och ett som innehåller antalet donatorer\n",
    "* För att göra detta använd metoden value_counts på 'CLUSTER_CODE'. Det som returneras är en serie. Konvertera denna serie med metoden to_frame()\n",
    "* Den returnerade dataframen kommer att vara indexerad på klusterkod\n",
    "* Döp om variabeln 'CLUSTER_CODE' i respektive frame för att kunna merga dem. Läs i Pandas dokumentationen för hur detta går till: https://pandas.pydata.org/pandas-docs/stable/reference/api/pandas.DataFrame.rename.html?highlight=rename#pandas.DataFrame.rename\n",
    "* Merga dina två dataframes på index. Då använder man inte ON argumentet- Titta på hjälpen för detta ?df.merge(). Två av argumenten är left_index samt right_index.\n",
    "* När dataframsen är mergade så skapa en ny variabel som innehåller andel donatorer per kluster\n",
    "* Sortera dataframen på denna skapae varibel. Använd metoden sort_values(). Tänk på att du vill ta fram de fem kluster med högst andel. Tips ?df.sort_values() och titta på argumenten"
   ]
  },
  {
   "cell_type": "markdown",
   "metadata": {},
   "source": [
    "__14.1 Skapa två dataframes__"
   ]
  },
  {
   "cell_type": "markdown",
   "metadata": {},
   "source": [
    "__14.2 Döp om variablerna för att kunna merga__"
   ]
  },
  {
   "cell_type": "markdown",
   "metadata": {
    "collapsed": true
   },
   "source": [
    "__14.3 Joina tabellerna med merge metoden. Merga på index__"
   ]
  },
  {
   "cell_type": "markdown",
   "metadata": {},
   "source": [
    "__14.4 Beäkna andelen som en kvot och lägg kvoten i en ny variabel i dataframen__"
   ]
  },
  {
   "cell_type": "markdown",
   "metadata": {
    "collapsed": true
   },
   "source": [
    "__14.5 Sortera dataframen på den skapade variabeln ovan. Obs - vi vill se de 5 klustren med högsta andel__"
   ]
  },
  {
   "cell_type": "markdown",
   "metadata": {},
   "source": [
    "__15 Skapa en graf som innehåller två liggande stapeldiagram som ligger under varandra__\n",
    "\n",
    "* Titta på fördelningen av 'URBANICITY' samt 'OVERLAY_SOURCE' med value_counts() metoden. Det är dessa fördelningar vi ska visulalisera och koden för detta återanvänder vi när vi bygger grafen\n",
    "* Skapa ett graf objekt från plt.figure() metoden. Sätt storlek för hela grafen till 14,9\n",
    "* Skapa två objekt (subplot objekt) som delar in grafen i två ytor med metoden add_subplot(rader, kolumner, nummer på subplot). Objektet som metoden ska appliceras på är objektet från plt.figure() metoden\n",
    "* Återanvänd visualiseringen i första punkten och referera med med två olika variabelnamn\n",
    "* Applicera plot() metoden på objekten ovan. Sätt argument som skapar horisntell graf\n",
    "* Sätt två olika titlar på graferna. Använd metoden set_title() på de två olika subplot objekten\n",
    "* Kan man ändra färg på staplarna? Checka dokumentationen för **kwargs: https://matplotlib.org/stable/api/_as_gen/matplotlib.pyplot.plot.html"
   ]
  },
  {
   "cell_type": "code",
   "execution_count": null,
   "metadata": {
    "collapsed": true
   },
   "outputs": [],
   "source": []
  }
 ],
 "metadata": {
  "anaconda-cloud": {},
  "kernelspec": {
   "display_name": "Python 3",
   "language": "python",
   "name": "python3"
  },
  "language_info": {
   "codemirror_mode": {
    "name": "ipython",
    "version": 3
   },
   "file_extension": ".py",
   "mimetype": "text/x-python",
   "name": "python",
   "nbconvert_exporter": "python",
   "pygments_lexer": "ipython3",
   "version": "3.7.7"
  }
 },
 "nbformat": 4,
 "nbformat_minor": 1
}
