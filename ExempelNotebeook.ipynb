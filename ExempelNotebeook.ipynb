{
 "cells": [
  {
   "cell_type": "markdown",
   "metadata": {},
   "source": [
    "# Exempel notebook\n",
    "\n",
    "* Läsa in data från SAS dataset\n",
    "* Hur man skapar en ny variabel baserat på befintlig variabel\n",
    "* Hur man konverterar ett string objekt till Pandas datetime variabel\n",
    "* Några enkla metoder för att förstå sitt data\n",
    "* Gruppering av data\n",
    "* Filtrering - välja rader på kriterium\n",
    "* Flödeslogik och villkor i en funktion applicerad mot dataframe\n",
    "* Joina dataframes\n",
    "* Konkatinera dataframes\n",
    "* Visualisering - Matplotlib\n",
    "* Objekthantering när dataframes skapas, vy eller fysisikt data - SettingWithWarningCopy\n",
    "* Plocka rader och kolumner i dataframe med iloc metoden\n",
    "\n",
    "\n",
    "__En mycket bra resurs att söka hjälp i är pandas egen dokumentation: https://pandas.pydata.org/pandas-docs/stable/getting_started/comparison/comparison_with_sas.html__\n",
    "\n",
    "__I Table of Contents finns \"Comparison with SAS\". I denna så jämför man pandas med SAS utifrån flera olika perspektiv. Jag brukar alltid ha den öppen när jag arbetar med analys i pandas__\n",
    "\n"
   ]
  },
  {
   "cell_type": "code",
   "execution_count": 1,
   "metadata": {},
   "outputs": [],
   "source": [
    "import pandas as pd\n",
    "import numpy as np\n",
    "import matplotlib \n",
    "import matplotlib.pyplot as plt"
   ]
  },
  {
   "cell_type": "code",
   "execution_count": 2,
   "metadata": {},
   "outputs": [],
   "source": [
    "?pd.read_sas"
   ]
  },
  {
   "cell_type": "code",
   "execution_count": 3,
   "metadata": {},
   "outputs": [
    {
     "data": {
      "text/plain": [
       "function"
      ]
     },
     "execution_count": 3,
     "metadata": {},
     "output_type": "execute_result"
    }
   ],
   "source": [
    "type(pd.read_sas)"
   ]
  },
  {
   "cell_type": "code",
   "execution_count": 4,
   "metadata": {},
   "outputs": [
    {
     "data": {
      "text/plain": [
       "module"
      ]
     },
     "execution_count": 4,
     "metadata": {},
     "output_type": "execute_result"
    }
   ],
   "source": [
    "type(plt)"
   ]
  },
  {
   "cell_type": "code",
   "execution_count": 5,
   "metadata": {},
   "outputs": [
    {
     "data": {
      "text/plain": [
       "module"
      ]
     },
     "execution_count": 5,
     "metadata": {},
     "output_type": "execute_result"
    }
   ],
   "source": [
    "type(pd)"
   ]
  },
  {
   "cell_type": "markdown",
   "metadata": {},
   "source": [
    "## 1. Läsa in data från SAS format"
   ]
  },
  {
   "cell_type": "code",
   "execution_count": 6,
   "metadata": {},
   "outputs": [],
   "source": [
    "df_staff = pd.read_sas('staff.sas7bdat', encoding = 'Latin8')"
   ]
  },
  {
   "cell_type": "code",
   "execution_count": 7,
   "metadata": {},
   "outputs": [
    {
     "name": "stdout",
     "output_type": "stream",
     "text": [
      "<class 'pandas.core.frame.DataFrame'>\n",
      "RangeIndex: 424 entries, 0 to 423\n",
      "Data columns (total 10 columns):\n",
      " #   Column         Non-Null Count  Dtype         \n",
      "---  ------         --------------  -----         \n",
      " 0   Employee_ID    424 non-null    float64       \n",
      " 1   Job_Title      424 non-null    object        \n",
      " 2   Salary         424 non-null    float64       \n",
      " 3   Gender         424 non-null    object        \n",
      " 4   Birth_Date     424 non-null    datetime64[ns]\n",
      " 5   Emp_Hire_Date  424 non-null    datetime64[ns]\n",
      " 6   Emp_Term_Date  116 non-null    datetime64[ns]\n",
      " 7   Manager_ID     423 non-null    float64       \n",
      " 8   start_date     424 non-null    object        \n",
      " 9   end_date       424 non-null    object        \n",
      "dtypes: datetime64[ns](3), float64(3), object(4)\n",
      "memory usage: 33.2+ KB\n"
     ]
    }
   ],
   "source": [
    "# Information om det inlästa datat\n",
    "df_staff.info()"
   ]
  },
  {
   "cell_type": "code",
   "execution_count": 8,
   "metadata": {},
   "outputs": [
    {
     "data": {
      "text/html": [
       "<div>\n",
       "<style scoped>\n",
       "    .dataframe tbody tr th:only-of-type {\n",
       "        vertical-align: middle;\n",
       "    }\n",
       "\n",
       "    .dataframe tbody tr th {\n",
       "        vertical-align: top;\n",
       "    }\n",
       "\n",
       "    .dataframe thead th {\n",
       "        text-align: right;\n",
       "    }\n",
       "</style>\n",
       "<table border=\"1\" class=\"dataframe\">\n",
       "  <thead>\n",
       "    <tr style=\"text-align: right;\">\n",
       "      <th></th>\n",
       "      <th>Employee_ID</th>\n",
       "      <th>Job_Title</th>\n",
       "      <th>Salary</th>\n",
       "      <th>Gender</th>\n",
       "      <th>Birth_Date</th>\n",
       "      <th>Emp_Hire_Date</th>\n",
       "      <th>Emp_Term_Date</th>\n",
       "      <th>Manager_ID</th>\n",
       "      <th>start_date</th>\n",
       "      <th>end_date</th>\n",
       "    </tr>\n",
       "  </thead>\n",
       "  <tbody>\n",
       "    <tr>\n",
       "      <th>0</th>\n",
       "      <td>120101.0</td>\n",
       "      <td>Director</td>\n",
       "      <td>163040.0</td>\n",
       "      <td>M</td>\n",
       "      <td>1980-08-18</td>\n",
       "      <td>2007-07-01</td>\n",
       "      <td>NaT</td>\n",
       "      <td>120261.0</td>\n",
       "      <td>2007-07-01</td>\n",
       "      <td>9999-12-31</td>\n",
       "    </tr>\n",
       "    <tr>\n",
       "      <th>1</th>\n",
       "      <td>120102.0</td>\n",
       "      <td>Sales Manager</td>\n",
       "      <td>108255.0</td>\n",
       "      <td>M</td>\n",
       "      <td>1973-08-11</td>\n",
       "      <td>1993-06-01</td>\n",
       "      <td>NaT</td>\n",
       "      <td>120101.0</td>\n",
       "      <td>1993-06-01</td>\n",
       "      <td>9999-12-31</td>\n",
       "    </tr>\n",
       "    <tr>\n",
       "      <th>2</th>\n",
       "      <td>120103.0</td>\n",
       "      <td>Sales Manager</td>\n",
       "      <td>87975.0</td>\n",
       "      <td>M</td>\n",
       "      <td>1953-01-22</td>\n",
       "      <td>1978-01-01</td>\n",
       "      <td>NaT</td>\n",
       "      <td>120101.0</td>\n",
       "      <td>1978-01-01</td>\n",
       "      <td>9999-12-31</td>\n",
       "    </tr>\n",
       "    <tr>\n",
       "      <th>3</th>\n",
       "      <td>120104.0</td>\n",
       "      <td>Administration Manager</td>\n",
       "      <td>46230.0</td>\n",
       "      <td>F</td>\n",
       "      <td>1958-05-11</td>\n",
       "      <td>1985-01-01</td>\n",
       "      <td>NaT</td>\n",
       "      <td>120101.0</td>\n",
       "      <td>1985-01-01</td>\n",
       "      <td>9999-12-31</td>\n",
       "    </tr>\n",
       "    <tr>\n",
       "      <th>4</th>\n",
       "      <td>120105.0</td>\n",
       "      <td>Secretary I</td>\n",
       "      <td>27110.0</td>\n",
       "      <td>F</td>\n",
       "      <td>1978-12-21</td>\n",
       "      <td>2003-05-01</td>\n",
       "      <td>NaT</td>\n",
       "      <td>120101.0</td>\n",
       "      <td>2003-05-01</td>\n",
       "      <td>9999-12-31</td>\n",
       "    </tr>\n",
       "  </tbody>\n",
       "</table>\n",
       "</div>"
      ],
      "text/plain": [
       "   Employee_ID               Job_Title    Salary Gender Birth_Date  \\\n",
       "0     120101.0                Director  163040.0      M 1980-08-18   \n",
       "1     120102.0           Sales Manager  108255.0      M 1973-08-11   \n",
       "2     120103.0           Sales Manager   87975.0      M 1953-01-22   \n",
       "3     120104.0  Administration Manager   46230.0      F 1958-05-11   \n",
       "4     120105.0             Secretary I   27110.0      F 1978-12-21   \n",
       "\n",
       "  Emp_Hire_Date Emp_Term_Date  Manager_ID  start_date    end_date  \n",
       "0    2007-07-01           NaT    120261.0  2007-07-01  9999-12-31  \n",
       "1    1993-06-01           NaT    120101.0  1993-06-01  9999-12-31  \n",
       "2    1978-01-01           NaT    120101.0  1978-01-01  9999-12-31  \n",
       "3    1985-01-01           NaT    120101.0  1985-01-01  9999-12-31  \n",
       "4    2003-05-01           NaT    120101.0  2003-05-01  9999-12-31  "
      ]
     },
     "execution_count": 8,
     "metadata": {},
     "output_type": "execute_result"
    }
   ],
   "source": [
    "# Tittar på de 5 första observationerna\n",
    "df_staff.head()"
   ]
  },
  {
   "cell_type": "markdown",
   "metadata": {},
   "source": [
    "### Dataframen innehåller två datatyper: float64 samt object\n",
    "* float64 - numerisk variabel med decimaler\n",
    "* object - pandas datatyp för character\n",
    "* datetime64 - pandas datatyp för datum"
   ]
  },
  {
   "cell_type": "markdown",
   "metadata": {},
   "source": [
    "## 2. Hur skapar man en ny variabel i Pandas"
   ]
  },
  {
   "cell_type": "code",
   "execution_count": 9,
   "metadata": {},
   "outputs": [],
   "source": [
    "df_staff['Double'] = df_staff['Salary'] * 2"
   ]
  },
  {
   "cell_type": "code",
   "execution_count": 10,
   "metadata": {},
   "outputs": [
    {
     "data": {
      "text/html": [
       "<div>\n",
       "<style scoped>\n",
       "    .dataframe tbody tr th:only-of-type {\n",
       "        vertical-align: middle;\n",
       "    }\n",
       "\n",
       "    .dataframe tbody tr th {\n",
       "        vertical-align: top;\n",
       "    }\n",
       "\n",
       "    .dataframe thead th {\n",
       "        text-align: right;\n",
       "    }\n",
       "</style>\n",
       "<table border=\"1\" class=\"dataframe\">\n",
       "  <thead>\n",
       "    <tr style=\"text-align: right;\">\n",
       "      <th></th>\n",
       "      <th>Employee_ID</th>\n",
       "      <th>Job_Title</th>\n",
       "      <th>Salary</th>\n",
       "      <th>Gender</th>\n",
       "      <th>Birth_Date</th>\n",
       "      <th>Emp_Hire_Date</th>\n",
       "      <th>Emp_Term_Date</th>\n",
       "      <th>Manager_ID</th>\n",
       "      <th>start_date</th>\n",
       "      <th>end_date</th>\n",
       "      <th>Double</th>\n",
       "    </tr>\n",
       "  </thead>\n",
       "  <tbody>\n",
       "    <tr>\n",
       "      <th>0</th>\n",
       "      <td>120101.0</td>\n",
       "      <td>Director</td>\n",
       "      <td>163040.0</td>\n",
       "      <td>M</td>\n",
       "      <td>1980-08-18</td>\n",
       "      <td>2007-07-01</td>\n",
       "      <td>NaT</td>\n",
       "      <td>120261.0</td>\n",
       "      <td>2007-07-01</td>\n",
       "      <td>9999-12-31</td>\n",
       "      <td>326080.0</td>\n",
       "    </tr>\n",
       "    <tr>\n",
       "      <th>1</th>\n",
       "      <td>120102.0</td>\n",
       "      <td>Sales Manager</td>\n",
       "      <td>108255.0</td>\n",
       "      <td>M</td>\n",
       "      <td>1973-08-11</td>\n",
       "      <td>1993-06-01</td>\n",
       "      <td>NaT</td>\n",
       "      <td>120101.0</td>\n",
       "      <td>1993-06-01</td>\n",
       "      <td>9999-12-31</td>\n",
       "      <td>216510.0</td>\n",
       "    </tr>\n",
       "    <tr>\n",
       "      <th>2</th>\n",
       "      <td>120103.0</td>\n",
       "      <td>Sales Manager</td>\n",
       "      <td>87975.0</td>\n",
       "      <td>M</td>\n",
       "      <td>1953-01-22</td>\n",
       "      <td>1978-01-01</td>\n",
       "      <td>NaT</td>\n",
       "      <td>120101.0</td>\n",
       "      <td>1978-01-01</td>\n",
       "      <td>9999-12-31</td>\n",
       "      <td>175950.0</td>\n",
       "    </tr>\n",
       "    <tr>\n",
       "      <th>3</th>\n",
       "      <td>120104.0</td>\n",
       "      <td>Administration Manager</td>\n",
       "      <td>46230.0</td>\n",
       "      <td>F</td>\n",
       "      <td>1958-05-11</td>\n",
       "      <td>1985-01-01</td>\n",
       "      <td>NaT</td>\n",
       "      <td>120101.0</td>\n",
       "      <td>1985-01-01</td>\n",
       "      <td>9999-12-31</td>\n",
       "      <td>92460.0</td>\n",
       "    </tr>\n",
       "    <tr>\n",
       "      <th>4</th>\n",
       "      <td>120105.0</td>\n",
       "      <td>Secretary I</td>\n",
       "      <td>27110.0</td>\n",
       "      <td>F</td>\n",
       "      <td>1978-12-21</td>\n",
       "      <td>2003-05-01</td>\n",
       "      <td>NaT</td>\n",
       "      <td>120101.0</td>\n",
       "      <td>2003-05-01</td>\n",
       "      <td>9999-12-31</td>\n",
       "      <td>54220.0</td>\n",
       "    </tr>\n",
       "  </tbody>\n",
       "</table>\n",
       "</div>"
      ],
      "text/plain": [
       "   Employee_ID               Job_Title    Salary Gender Birth_Date  \\\n",
       "0     120101.0                Director  163040.0      M 1980-08-18   \n",
       "1     120102.0           Sales Manager  108255.0      M 1973-08-11   \n",
       "2     120103.0           Sales Manager   87975.0      M 1953-01-22   \n",
       "3     120104.0  Administration Manager   46230.0      F 1958-05-11   \n",
       "4     120105.0             Secretary I   27110.0      F 1978-12-21   \n",
       "\n",
       "  Emp_Hire_Date Emp_Term_Date  Manager_ID  start_date    end_date    Double  \n",
       "0    2007-07-01           NaT    120261.0  2007-07-01  9999-12-31  326080.0  \n",
       "1    1993-06-01           NaT    120101.0  1993-06-01  9999-12-31  216510.0  \n",
       "2    1978-01-01           NaT    120101.0  1978-01-01  9999-12-31  175950.0  \n",
       "3    1985-01-01           NaT    120101.0  1985-01-01  9999-12-31   92460.0  \n",
       "4    2003-05-01           NaT    120101.0  2003-05-01  9999-12-31   54220.0  "
      ]
     },
     "execution_count": 10,
     "metadata": {},
     "output_type": "execute_result"
    }
   ],
   "source": [
    "df_staff.head()"
   ]
  },
  {
   "cell_type": "markdown",
   "metadata": {},
   "source": [
    "## 3. Konvertera till datetimeformat\n",
    "\n",
    "### Vi behöver konvertera datumvariablerna (Start_Date samt End:Date) till datetime - datumvariabel i Pandas. Nu ligger den som objekt och då kan vi inte applicera datum metoder på denna. För att göra den konverteringen använder vi pandas funktion to_datetime\n"
   ]
  },
  {
   "cell_type": "code",
   "execution_count": 11,
   "metadata": {},
   "outputs": [],
   "source": [
    "?pd.to_datetime"
   ]
  },
  {
   "cell_type": "code",
   "execution_count": 12,
   "metadata": {},
   "outputs": [],
   "source": [
    "df_staff['P_start_date'] = pd.to_datetime(df_staff['start_date'])"
   ]
  },
  {
   "cell_type": "code",
   "execution_count": 13,
   "metadata": {},
   "outputs": [
    {
     "name": "stdout",
     "output_type": "stream",
     "text": [
      "<class 'pandas.core.frame.DataFrame'>\n",
      "RangeIndex: 424 entries, 0 to 423\n",
      "Data columns (total 12 columns):\n",
      " #   Column         Non-Null Count  Dtype         \n",
      "---  ------         --------------  -----         \n",
      " 0   Employee_ID    424 non-null    float64       \n",
      " 1   Job_Title      424 non-null    object        \n",
      " 2   Salary         424 non-null    float64       \n",
      " 3   Gender         424 non-null    object        \n",
      " 4   Birth_Date     424 non-null    datetime64[ns]\n",
      " 5   Emp_Hire_Date  424 non-null    datetime64[ns]\n",
      " 6   Emp_Term_Date  116 non-null    datetime64[ns]\n",
      " 7   Manager_ID     423 non-null    float64       \n",
      " 8   start_date     424 non-null    object        \n",
      " 9   end_date       424 non-null    object        \n",
      " 10  Double         424 non-null    float64       \n",
      " 11  P_start_date   424 non-null    datetime64[ns]\n",
      "dtypes: datetime64[ns](4), float64(4), object(4)\n",
      "memory usage: 39.9+ KB\n"
     ]
    }
   ],
   "source": [
    "df_staff.info()"
   ]
  },
  {
   "cell_type": "code",
   "execution_count": 14,
   "metadata": {},
   "outputs": [
    {
     "data": {
      "text/html": [
       "<div>\n",
       "<style scoped>\n",
       "    .dataframe tbody tr th:only-of-type {\n",
       "        vertical-align: middle;\n",
       "    }\n",
       "\n",
       "    .dataframe tbody tr th {\n",
       "        vertical-align: top;\n",
       "    }\n",
       "\n",
       "    .dataframe thead th {\n",
       "        text-align: right;\n",
       "    }\n",
       "</style>\n",
       "<table border=\"1\" class=\"dataframe\">\n",
       "  <thead>\n",
       "    <tr style=\"text-align: right;\">\n",
       "      <th></th>\n",
       "      <th>Employee_ID</th>\n",
       "      <th>Job_Title</th>\n",
       "      <th>Salary</th>\n",
       "      <th>Gender</th>\n",
       "      <th>Birth_Date</th>\n",
       "      <th>Emp_Hire_Date</th>\n",
       "      <th>Emp_Term_Date</th>\n",
       "      <th>Manager_ID</th>\n",
       "      <th>start_date</th>\n",
       "      <th>end_date</th>\n",
       "      <th>Double</th>\n",
       "      <th>P_start_date</th>\n",
       "    </tr>\n",
       "  </thead>\n",
       "  <tbody>\n",
       "    <tr>\n",
       "      <th>0</th>\n",
       "      <td>120101.0</td>\n",
       "      <td>Director</td>\n",
       "      <td>163040.0</td>\n",
       "      <td>M</td>\n",
       "      <td>1980-08-18</td>\n",
       "      <td>2007-07-01</td>\n",
       "      <td>NaT</td>\n",
       "      <td>120261.0</td>\n",
       "      <td>2007-07-01</td>\n",
       "      <td>9999-12-31</td>\n",
       "      <td>326080.0</td>\n",
       "      <td>2007-07-01</td>\n",
       "    </tr>\n",
       "    <tr>\n",
       "      <th>1</th>\n",
       "      <td>120102.0</td>\n",
       "      <td>Sales Manager</td>\n",
       "      <td>108255.0</td>\n",
       "      <td>M</td>\n",
       "      <td>1973-08-11</td>\n",
       "      <td>1993-06-01</td>\n",
       "      <td>NaT</td>\n",
       "      <td>120101.0</td>\n",
       "      <td>1993-06-01</td>\n",
       "      <td>9999-12-31</td>\n",
       "      <td>216510.0</td>\n",
       "      <td>1993-06-01</td>\n",
       "    </tr>\n",
       "    <tr>\n",
       "      <th>2</th>\n",
       "      <td>120103.0</td>\n",
       "      <td>Sales Manager</td>\n",
       "      <td>87975.0</td>\n",
       "      <td>M</td>\n",
       "      <td>1953-01-22</td>\n",
       "      <td>1978-01-01</td>\n",
       "      <td>NaT</td>\n",
       "      <td>120101.0</td>\n",
       "      <td>1978-01-01</td>\n",
       "      <td>9999-12-31</td>\n",
       "      <td>175950.0</td>\n",
       "      <td>1978-01-01</td>\n",
       "    </tr>\n",
       "    <tr>\n",
       "      <th>3</th>\n",
       "      <td>120104.0</td>\n",
       "      <td>Administration Manager</td>\n",
       "      <td>46230.0</td>\n",
       "      <td>F</td>\n",
       "      <td>1958-05-11</td>\n",
       "      <td>1985-01-01</td>\n",
       "      <td>NaT</td>\n",
       "      <td>120101.0</td>\n",
       "      <td>1985-01-01</td>\n",
       "      <td>9999-12-31</td>\n",
       "      <td>92460.0</td>\n",
       "      <td>1985-01-01</td>\n",
       "    </tr>\n",
       "    <tr>\n",
       "      <th>4</th>\n",
       "      <td>120105.0</td>\n",
       "      <td>Secretary I</td>\n",
       "      <td>27110.0</td>\n",
       "      <td>F</td>\n",
       "      <td>1978-12-21</td>\n",
       "      <td>2003-05-01</td>\n",
       "      <td>NaT</td>\n",
       "      <td>120101.0</td>\n",
       "      <td>2003-05-01</td>\n",
       "      <td>9999-12-31</td>\n",
       "      <td>54220.0</td>\n",
       "      <td>2003-05-01</td>\n",
       "    </tr>\n",
       "  </tbody>\n",
       "</table>\n",
       "</div>"
      ],
      "text/plain": [
       "   Employee_ID               Job_Title    Salary Gender Birth_Date  \\\n",
       "0     120101.0                Director  163040.0      M 1980-08-18   \n",
       "1     120102.0           Sales Manager  108255.0      M 1973-08-11   \n",
       "2     120103.0           Sales Manager   87975.0      M 1953-01-22   \n",
       "3     120104.0  Administration Manager   46230.0      F 1958-05-11   \n",
       "4     120105.0             Secretary I   27110.0      F 1978-12-21   \n",
       "\n",
       "  Emp_Hire_Date Emp_Term_Date  Manager_ID  start_date    end_date    Double  \\\n",
       "0    2007-07-01           NaT    120261.0  2007-07-01  9999-12-31  326080.0   \n",
       "1    1993-06-01           NaT    120101.0  1993-06-01  9999-12-31  216510.0   \n",
       "2    1978-01-01           NaT    120101.0  1978-01-01  9999-12-31  175950.0   \n",
       "3    1985-01-01           NaT    120101.0  1985-01-01  9999-12-31   92460.0   \n",
       "4    2003-05-01           NaT    120101.0  2003-05-01  9999-12-31   54220.0   \n",
       "\n",
       "  P_start_date  \n",
       "0   2007-07-01  \n",
       "1   1993-06-01  \n",
       "2   1978-01-01  \n",
       "3   1985-01-01  \n",
       "4   2003-05-01  "
      ]
     },
     "execution_count": 14,
     "metadata": {},
     "output_type": "execute_result"
    }
   ],
   "source": [
    "df_staff.head()"
   ]
  },
  {
   "cell_type": "markdown",
   "metadata": {},
   "source": [
    "### Nu kan vi applicera metoder mot datumvariabeln"
   ]
  },
  {
   "cell_type": "code",
   "execution_count": 15,
   "metadata": {},
   "outputs": [
    {
     "data": {
      "text/plain": [
       "pandas.core.series.Series"
      ]
     },
     "execution_count": 15,
     "metadata": {},
     "output_type": "execute_result"
    }
   ],
   "source": [
    "type(df_staff['P_start_date'])"
   ]
  },
  {
   "cell_type": "code",
   "execution_count": 20,
   "metadata": {},
   "outputs": [],
   "source": [
    "# För att se vilka attribut som finns tillgängliga på en serie\n",
    "test = df_staff['P_start_date']"
   ]
  },
  {
   "cell_type": "code",
   "execution_count": 22,
   "metadata": {},
   "outputs": [
    {
     "data": {
      "text/plain": [
       "['T',\n",
       " '_AXIS_ALIASES',\n",
       " '_AXIS_IALIASES',\n",
       " '_AXIS_LEN',\n",
       " '_AXIS_NAMES',\n",
       " '_AXIS_NUMBERS',\n",
       " '_AXIS_ORDERS',\n",
       " '_AXIS_REVERSED',\n",
       " '_HANDLED_TYPES',\n",
       " '__abs__',\n",
       " '__add__',\n",
       " '__and__',\n",
       " '__annotations__',\n",
       " '__array__',\n",
       " '__array_priority__',\n",
       " '__array_ufunc__',\n",
       " '__array_wrap__',\n",
       " '__bool__',\n",
       " '__class__',\n",
       " '__contains__',\n",
       " '__copy__',\n",
       " '__deepcopy__',\n",
       " '__delattr__',\n",
       " '__delitem__',\n",
       " '__dict__',\n",
       " '__dir__',\n",
       " '__div__',\n",
       " '__divmod__',\n",
       " '__doc__',\n",
       " '__eq__',\n",
       " '__finalize__',\n",
       " '__float__',\n",
       " '__floordiv__',\n",
       " '__format__',\n",
       " '__ge__',\n",
       " '__getattr__',\n",
       " '__getattribute__',\n",
       " '__getitem__',\n",
       " '__getstate__',\n",
       " '__gt__',\n",
       " '__hash__',\n",
       " '__iadd__',\n",
       " '__iand__',\n",
       " '__ifloordiv__',\n",
       " '__imod__',\n",
       " '__imul__',\n",
       " '__init__',\n",
       " '__init_subclass__',\n",
       " '__int__',\n",
       " '__invert__',\n",
       " '__ior__',\n",
       " '__ipow__',\n",
       " '__isub__',\n",
       " '__iter__',\n",
       " '__itruediv__',\n",
       " '__ixor__',\n",
       " '__le__',\n",
       " '__len__',\n",
       " '__long__',\n",
       " '__lt__',\n",
       " '__matmul__',\n",
       " '__mod__',\n",
       " '__module__',\n",
       " '__mul__',\n",
       " '__ne__',\n",
       " '__neg__',\n",
       " '__new__',\n",
       " '__nonzero__',\n",
       " '__or__',\n",
       " '__pos__',\n",
       " '__pow__',\n",
       " '__radd__',\n",
       " '__rand__',\n",
       " '__rdiv__',\n",
       " '__rdivmod__',\n",
       " '__reduce__',\n",
       " '__reduce_ex__',\n",
       " '__repr__',\n",
       " '__rfloordiv__',\n",
       " '__rmatmul__',\n",
       " '__rmod__',\n",
       " '__rmul__',\n",
       " '__ror__',\n",
       " '__round__',\n",
       " '__rpow__',\n",
       " '__rsub__',\n",
       " '__rtruediv__',\n",
       " '__rxor__',\n",
       " '__setattr__',\n",
       " '__setitem__',\n",
       " '__setstate__',\n",
       " '__sizeof__',\n",
       " '__str__',\n",
       " '__sub__',\n",
       " '__subclasshook__',\n",
       " '__truediv__',\n",
       " '__weakref__',\n",
       " '__xor__',\n",
       " '_accessors',\n",
       " '_add_numeric_operations',\n",
       " '_add_series_or_dataframe_operations',\n",
       " '_agg_by_level',\n",
       " '_agg_examples_doc',\n",
       " '_agg_see_also_doc',\n",
       " '_aggregate',\n",
       " '_aggregate_multiple_funcs',\n",
       " '_align_frame',\n",
       " '_align_series',\n",
       " '_binop',\n",
       " '_box_item_values',\n",
       " '_builtin_table',\n",
       " '_can_hold_na',\n",
       " '_check_inplace_setting',\n",
       " '_check_is_chained_assignment_possible',\n",
       " '_check_label_or_level_ambiguity',\n",
       " '_check_setitem_copy',\n",
       " '_clear_item_cache',\n",
       " '_clip_with_one_bound',\n",
       " '_clip_with_scalar',\n",
       " '_consolidate',\n",
       " '_consolidate_inplace',\n",
       " '_construct_axes_dict',\n",
       " '_construct_axes_dict_from',\n",
       " '_construct_axes_from_arguments',\n",
       " '_constructor',\n",
       " '_constructor_expanddim',\n",
       " '_constructor_sliced',\n",
       " '_convert',\n",
       " '_convert_dtypes',\n",
       " '_create_indexer',\n",
       " '_cython_table',\n",
       " '_deprecations',\n",
       " '_dir_additions',\n",
       " '_dir_deletions',\n",
       " '_drop_axis',\n",
       " '_drop_labels_or_levels',\n",
       " '_find_valid_index',\n",
       " '_from_axes',\n",
       " '_get_axis',\n",
       " '_get_axis_name',\n",
       " '_get_axis_number',\n",
       " '_get_axis_resolvers',\n",
       " '_get_block_manager_axis',\n",
       " '_get_bool_data',\n",
       " '_get_cacher',\n",
       " '_get_cleaned_column_resolvers',\n",
       " '_get_cython_func',\n",
       " '_get_index_resolvers',\n",
       " '_get_item_cache',\n",
       " '_get_label_or_level_values',\n",
       " '_get_numeric_data',\n",
       " '_get_value',\n",
       " '_get_values',\n",
       " '_get_values_tuple',\n",
       " '_get_with',\n",
       " '_gotitem',\n",
       " '_iget_item_cache',\n",
       " '_index',\n",
       " '_indexed_same',\n",
       " '_info_axis',\n",
       " '_info_axis_name',\n",
       " '_info_axis_number',\n",
       " '_init_dict',\n",
       " '_init_mgr',\n",
       " '_internal_get_values',\n",
       " '_internal_names',\n",
       " '_internal_names_set',\n",
       " '_is_builtin_func',\n",
       " '_is_cached',\n",
       " '_is_copy',\n",
       " '_is_datelike_mixed_type',\n",
       " '_is_label_or_level_reference',\n",
       " '_is_label_reference',\n",
       " '_is_level_reference',\n",
       " '_is_mixed_type',\n",
       " '_is_numeric_mixed_type',\n",
       " '_is_view',\n",
       " '_ix',\n",
       " '_ixs',\n",
       " '_map_values',\n",
       " '_maybe_cache_changed',\n",
       " '_maybe_update_cacher',\n",
       " '_metadata',\n",
       " '_ndarray_values',\n",
       " '_needs_reindex_multi',\n",
       " '_obj_with_exclusions',\n",
       " '_protect_consolidate',\n",
       " '_reduce',\n",
       " '_reindex_axes',\n",
       " '_reindex_indexer',\n",
       " '_reindex_multi',\n",
       " '_reindex_with_indexers',\n",
       " '_repr_data_resource_',\n",
       " '_repr_latex_',\n",
       " '_reset_cache',\n",
       " '_reset_cacher',\n",
       " '_selected_obj',\n",
       " '_selection',\n",
       " '_selection_list',\n",
       " '_selection_name',\n",
       " '_set_as_cached',\n",
       " '_set_axis',\n",
       " '_set_axis_name',\n",
       " '_set_is_copy',\n",
       " '_set_item',\n",
       " '_set_labels',\n",
       " '_set_name',\n",
       " '_set_subtyp',\n",
       " '_set_value',\n",
       " '_set_values',\n",
       " '_set_with',\n",
       " '_set_with_engine',\n",
       " '_setup_axes',\n",
       " '_slice',\n",
       " '_stat_axis',\n",
       " '_stat_axis_name',\n",
       " '_stat_axis_number',\n",
       " '_take_with_is_copy',\n",
       " '_to_dict_of_blocks',\n",
       " '_try_aggregate_string_function',\n",
       " '_typ',\n",
       " '_unpickle_series_compat',\n",
       " '_update_inplace',\n",
       " '_validate_dtype',\n",
       " '_values',\n",
       " '_where',\n",
       " '_xs',\n",
       " 'abs',\n",
       " 'add',\n",
       " 'add_prefix',\n",
       " 'add_suffix',\n",
       " 'agg',\n",
       " 'aggregate',\n",
       " 'align',\n",
       " 'all',\n",
       " 'any',\n",
       " 'append',\n",
       " 'apply',\n",
       " 'argmax',\n",
       " 'argmin',\n",
       " 'argsort',\n",
       " 'array',\n",
       " 'asfreq',\n",
       " 'asof',\n",
       " 'astype',\n",
       " 'at',\n",
       " 'at_time',\n",
       " 'attrs',\n",
       " 'autocorr',\n",
       " 'axes',\n",
       " 'between',\n",
       " 'between_time',\n",
       " 'bfill',\n",
       " 'bool',\n",
       " 'clip',\n",
       " 'combine',\n",
       " 'combine_first',\n",
       " 'convert_dtypes',\n",
       " 'copy',\n",
       " 'corr',\n",
       " 'count',\n",
       " 'cov',\n",
       " 'cummax',\n",
       " 'cummin',\n",
       " 'cumprod',\n",
       " 'cumsum',\n",
       " 'describe',\n",
       " 'diff',\n",
       " 'div',\n",
       " 'divide',\n",
       " 'divmod',\n",
       " 'dot',\n",
       " 'drop',\n",
       " 'drop_duplicates',\n",
       " 'droplevel',\n",
       " 'dropna',\n",
       " 'dt',\n",
       " 'dtype',\n",
       " 'dtypes',\n",
       " 'duplicated',\n",
       " 'empty',\n",
       " 'eq',\n",
       " 'equals',\n",
       " 'ewm',\n",
       " 'expanding',\n",
       " 'explode',\n",
       " 'factorize',\n",
       " 'ffill',\n",
       " 'fillna',\n",
       " 'filter',\n",
       " 'first',\n",
       " 'first_valid_index',\n",
       " 'floordiv',\n",
       " 'ge',\n",
       " 'get',\n",
       " 'groupby',\n",
       " 'gt',\n",
       " 'hasnans',\n",
       " 'head',\n",
       " 'hist',\n",
       " 'iat',\n",
       " 'idxmax',\n",
       " 'idxmin',\n",
       " 'iloc',\n",
       " 'index',\n",
       " 'infer_objects',\n",
       " 'interpolate',\n",
       " 'is_monotonic',\n",
       " 'is_monotonic_decreasing',\n",
       " 'is_monotonic_increasing',\n",
       " 'is_unique',\n",
       " 'isin',\n",
       " 'isna',\n",
       " 'isnull',\n",
       " 'item',\n",
       " 'items',\n",
       " 'iteritems',\n",
       " 'keys',\n",
       " 'kurt',\n",
       " 'kurtosis',\n",
       " 'last',\n",
       " 'last_valid_index',\n",
       " 'le',\n",
       " 'loc',\n",
       " 'lt',\n",
       " 'mad',\n",
       " 'map',\n",
       " 'mask',\n",
       " 'max',\n",
       " 'mean',\n",
       " 'median',\n",
       " 'memory_usage',\n",
       " 'min',\n",
       " 'mod',\n",
       " 'mode',\n",
       " 'mul',\n",
       " 'multiply',\n",
       " 'name',\n",
       " 'nbytes',\n",
       " 'ndim',\n",
       " 'ne',\n",
       " 'nlargest',\n",
       " 'notna',\n",
       " 'notnull',\n",
       " 'nsmallest',\n",
       " 'nunique',\n",
       " 'pct_change',\n",
       " 'pipe',\n",
       " 'plot',\n",
       " 'pop',\n",
       " 'pow',\n",
       " 'prod',\n",
       " 'product',\n",
       " 'quantile',\n",
       " 'radd',\n",
       " 'rank',\n",
       " 'ravel',\n",
       " 'rdiv',\n",
       " 'rdivmod',\n",
       " 'reindex',\n",
       " 'reindex_like',\n",
       " 'rename',\n",
       " 'rename_axis',\n",
       " 'reorder_levels',\n",
       " 'repeat',\n",
       " 'replace',\n",
       " 'resample',\n",
       " 'reset_index',\n",
       " 'rfloordiv',\n",
       " 'rmod',\n",
       " 'rmul',\n",
       " 'rolling',\n",
       " 'round',\n",
       " 'rpow',\n",
       " 'rsub',\n",
       " 'rtruediv',\n",
       " 'sample',\n",
       " 'searchsorted',\n",
       " 'sem',\n",
       " 'set_axis',\n",
       " 'shape',\n",
       " 'shift',\n",
       " 'size',\n",
       " 'skew',\n",
       " 'slice_shift',\n",
       " 'sort_index',\n",
       " 'sort_values',\n",
       " 'squeeze',\n",
       " 'std',\n",
       " 'sub',\n",
       " 'subtract',\n",
       " 'sum',\n",
       " 'swapaxes',\n",
       " 'swaplevel',\n",
       " 'tail',\n",
       " 'take',\n",
       " 'to_clipboard',\n",
       " 'to_csv',\n",
       " 'to_dict',\n",
       " 'to_excel',\n",
       " 'to_frame',\n",
       " 'to_hdf',\n",
       " 'to_json',\n",
       " 'to_latex',\n",
       " 'to_list',\n",
       " 'to_markdown',\n",
       " 'to_numpy',\n",
       " 'to_period',\n",
       " 'to_pickle',\n",
       " 'to_sql',\n",
       " 'to_string',\n",
       " 'to_timestamp',\n",
       " 'to_xarray',\n",
       " 'transform',\n",
       " 'transpose',\n",
       " 'truediv',\n",
       " 'truncate',\n",
       " 'tshift',\n",
       " 'tz_convert',\n",
       " 'tz_localize',\n",
       " 'unique',\n",
       " 'unstack',\n",
       " 'update',\n",
       " 'value_counts',\n",
       " 'values',\n",
       " 'var',\n",
       " 'view',\n",
       " 'where',\n",
       " 'xs']"
      ]
     },
     "execution_count": 22,
     "metadata": {},
     "output_type": "execute_result"
    }
   ],
   "source": [
    "dir(df_staff['P_start_date'])"
   ]
  },
  {
   "cell_type": "code",
   "execution_count": 23,
   "metadata": {},
   "outputs": [],
   "source": [
    "?test.dt"
   ]
  },
  {
   "cell_type": "markdown",
   "metadata": {},
   "source": [
    "### Vi skapar år, månad och dag"
   ]
  },
  {
   "cell_type": "code",
   "execution_count": 28,
   "metadata": {},
   "outputs": [],
   "source": [
    "df_staff['Year'] = df_staff['P_start_date'].dt.year\n",
    "df_staff['Month'] = df_staff['P_start_date'].dt.month\n",
    "df_staff['day'] = df_staff['P_start_date'].dt.month\n"
   ]
  },
  {
   "cell_type": "code",
   "execution_count": null,
   "metadata": {},
   "outputs": [],
   "source": [
    "df_staff.head()"
   ]
  },
  {
   "cell_type": "markdown",
   "metadata": {},
   "source": [
    "## 4. Exempel på metoder för att enkelt förstå sitt data"
   ]
  },
  {
   "cell_type": "code",
   "execution_count": null,
   "metadata": {},
   "outputs": [],
   "source": [
    "# Fördelning män och kvinnor\n",
    "df_staff['Gender'].value_counts()"
   ]
  },
  {
   "cell_type": "code",
   "execution_count": null,
   "metadata": {},
   "outputs": [],
   "source": [
    "# Medelvärde lön\n",
    "df_staff['Salary'].mean()\n"
   ]
  },
  {
   "cell_type": "code",
   "execution_count": null,
   "metadata": {},
   "outputs": [],
   "source": [
    "# Univariat statistik på alla numeriska variabler i dataframen\n",
    "df_staff.describe()"
   ]
  },
  {
   "cell_type": "markdown",
   "metadata": {},
   "source": [
    "## 5. Gruppering av data. \n",
    "### För att gruppera sitt data skapar man ett sk grouped objekt. Ett grouped objekt innehåller metadata som beskriver hur grupperingen är gjord. På detta objekt kan man sedan välja kolumner att ta fram olika statistik på. Detta sker - det vet ni nu - självklart med en lämplig metod."
   ]
  },
  {
   "cell_type": "code",
   "execution_count": 24,
   "metadata": {},
   "outputs": [],
   "source": [
    "# Vi skapar ett grouped objekt på Gender\n",
    "\n",
    "grouped = df_staff.groupby('Gender')"
   ]
  },
  {
   "cell_type": "code",
   "execution_count": 25,
   "metadata": {},
   "outputs": [
    {
     "data": {
      "text/plain": [
       "pandas.core.groupby.generic.DataFrameGroupBy"
      ]
     },
     "execution_count": 25,
     "metadata": {},
     "output_type": "execute_result"
    }
   ],
   "source": [
    "type(grouped)"
   ]
  },
  {
   "cell_type": "code",
   "execution_count": 26,
   "metadata": {},
   "outputs": [
    {
     "data": {
      "text/plain": [
       "Gender\n",
       "F    35591.308901\n",
       "M    40050.042918\n",
       "Name: Salary, dtype: float64"
      ]
     },
     "execution_count": 26,
     "metadata": {},
     "output_type": "execute_result"
    }
   ],
   "source": [
    "# Finns det någon skillnad i lön mellan män och kvinnor?. Väljer Serien Salery från groupedby objektet och applicerar \n",
    "# metoden mean\n",
    "\n",
    "grouped['Salary'].mean()"
   ]
  },
  {
   "cell_type": "code",
   "execution_count": null,
   "metadata": {},
   "outputs": [],
   "source": [
    "df_staff.info()"
   ]
  },
  {
   "cell_type": "code",
   "execution_count": 29,
   "metadata": {},
   "outputs": [],
   "source": [
    "### Man kan självklart gruppera på mer än en variabel. Observera att man då lägger grupperingsvariablerna i en lista\n",
    "\n",
    "grouped_multi =  df_staff.groupby(['Year','Gender'])"
   ]
  },
  {
   "cell_type": "code",
   "execution_count": null,
   "metadata": {},
   "outputs": [],
   "source": [
    "round(grouped_multi['Salary'].mean())"
   ]
  },
  {
   "cell_type": "markdown",
   "metadata": {},
   "source": [
    "## 6. Filtrering - välja rader på kriterium"
   ]
  },
  {
   "cell_type": "code",
   "execution_count": 30,
   "metadata": {},
   "outputs": [],
   "source": [
    "# Vi skapar en ny dataframe som enbart innehåller kvinnor\n",
    "df_staff_female = df_staff[df_staff['Gender'] == 'F']"
   ]
  },
  {
   "cell_type": "code",
   "execution_count": 31,
   "metadata": {},
   "outputs": [
    {
     "data": {
      "text/plain": [
       "Employee_ID      191\n",
       "Job_Title        191\n",
       "Salary           191\n",
       "Gender           191\n",
       "Birth_Date       191\n",
       "Emp_Hire_Date    191\n",
       "Emp_Term_Date     52\n",
       "Manager_ID       191\n",
       "start_date       191\n",
       "end_date         191\n",
       "Double           191\n",
       "P_start_date     191\n",
       "Year             191\n",
       "Month            191\n",
       "day              191\n",
       "dtype: int64"
      ]
     },
     "execution_count": 31,
     "metadata": {},
     "output_type": "execute_result"
    }
   ],
   "source": [
    "df_staff_female.count()"
   ]
  },
  {
   "cell_type": "markdown",
   "metadata": {},
   "source": [
    "### Vad är det vi gör här egentligen?"
   ]
  },
  {
   "cell_type": "code",
   "execution_count": 32,
   "metadata": {},
   "outputs": [],
   "source": [
    "df_staff['Truth'] = df_staff['Gender'] == 'F'"
   ]
  },
  {
   "cell_type": "code",
   "execution_count": 33,
   "metadata": {},
   "outputs": [
    {
     "data": {
      "text/html": [
       "<div>\n",
       "<style scoped>\n",
       "    .dataframe tbody tr th:only-of-type {\n",
       "        vertical-align: middle;\n",
       "    }\n",
       "\n",
       "    .dataframe tbody tr th {\n",
       "        vertical-align: top;\n",
       "    }\n",
       "\n",
       "    .dataframe thead th {\n",
       "        text-align: right;\n",
       "    }\n",
       "</style>\n",
       "<table border=\"1\" class=\"dataframe\">\n",
       "  <thead>\n",
       "    <tr style=\"text-align: right;\">\n",
       "      <th></th>\n",
       "      <th>Gender</th>\n",
       "      <th>Truth</th>\n",
       "    </tr>\n",
       "  </thead>\n",
       "  <tbody>\n",
       "    <tr>\n",
       "      <th>0</th>\n",
       "      <td>M</td>\n",
       "      <td>False</td>\n",
       "    </tr>\n",
       "    <tr>\n",
       "      <th>1</th>\n",
       "      <td>M</td>\n",
       "      <td>False</td>\n",
       "    </tr>\n",
       "    <tr>\n",
       "      <th>2</th>\n",
       "      <td>M</td>\n",
       "      <td>False</td>\n",
       "    </tr>\n",
       "    <tr>\n",
       "      <th>3</th>\n",
       "      <td>F</td>\n",
       "      <td>True</td>\n",
       "    </tr>\n",
       "    <tr>\n",
       "      <th>4</th>\n",
       "      <td>F</td>\n",
       "      <td>True</td>\n",
       "    </tr>\n",
       "  </tbody>\n",
       "</table>\n",
       "</div>"
      ],
      "text/plain": [
       "  Gender  Truth\n",
       "0      M  False\n",
       "1      M  False\n",
       "2      M  False\n",
       "3      F   True\n",
       "4      F   True"
      ]
     },
     "execution_count": 33,
     "metadata": {},
     "output_type": "execute_result"
    }
   ],
   "source": [
    "# Väljer ett subset av variabler\n",
    "df_staff[['Gender','Truth']].head()"
   ]
  },
  {
   "cell_type": "code",
   "execution_count": null,
   "metadata": {},
   "outputs": [],
   "source": [
    "### Subsetting with Calculated Values - exempel SQL\n",
    "\n",
    "'''\n",
    "proc sql;\n",
    "select Gender, Salary, Bonus,\n",
    "       Salary * .10 as Bonus\n",
    "   from orion.employee_payroll\n",
    "   where calculated Bonus < 3000;\n",
    "quit; \n",
    "\n",
    "'''\n"
   ]
  },
  {
   "cell_type": "code",
   "execution_count": 34,
   "metadata": {},
   "outputs": [],
   "source": [
    "df_staff['Bonus'] = df_staff['Salary'] * 0.1\n",
    "df_staff_subset = df_staff[df_staff['Bonus'] > 3000][[ 'Gender', 'Salary','Bonus']]"
   ]
  },
  {
   "cell_type": "code",
   "execution_count": 35,
   "metadata": {},
   "outputs": [
    {
     "data": {
      "text/html": [
       "<div>\n",
       "<style scoped>\n",
       "    .dataframe tbody tr th:only-of-type {\n",
       "        vertical-align: middle;\n",
       "    }\n",
       "\n",
       "    .dataframe tbody tr th {\n",
       "        vertical-align: top;\n",
       "    }\n",
       "\n",
       "    .dataframe thead th {\n",
       "        text-align: right;\n",
       "    }\n",
       "</style>\n",
       "<table border=\"1\" class=\"dataframe\">\n",
       "  <thead>\n",
       "    <tr style=\"text-align: right;\">\n",
       "      <th></th>\n",
       "      <th>Gender</th>\n",
       "      <th>Salary</th>\n",
       "      <th>Bonus</th>\n",
       "    </tr>\n",
       "  </thead>\n",
       "  <tbody>\n",
       "    <tr>\n",
       "      <th>0</th>\n",
       "      <td>M</td>\n",
       "      <td>163040.0</td>\n",
       "      <td>16304.0</td>\n",
       "    </tr>\n",
       "    <tr>\n",
       "      <th>1</th>\n",
       "      <td>M</td>\n",
       "      <td>108255.0</td>\n",
       "      <td>10825.5</td>\n",
       "    </tr>\n",
       "    <tr>\n",
       "      <th>2</th>\n",
       "      <td>M</td>\n",
       "      <td>87975.0</td>\n",
       "      <td>8797.5</td>\n",
       "    </tr>\n",
       "    <tr>\n",
       "      <th>3</th>\n",
       "      <td>F</td>\n",
       "      <td>46230.0</td>\n",
       "      <td>4623.0</td>\n",
       "    </tr>\n",
       "    <tr>\n",
       "      <th>6</th>\n",
       "      <td>F</td>\n",
       "      <td>30475.0</td>\n",
       "      <td>3047.5</td>\n",
       "    </tr>\n",
       "    <tr>\n",
       "      <th>13</th>\n",
       "      <td>F</td>\n",
       "      <td>31285.0</td>\n",
       "      <td>3128.5</td>\n",
       "    </tr>\n",
       "    <tr>\n",
       "      <th>16</th>\n",
       "      <td>M</td>\n",
       "      <td>31670.0</td>\n",
       "      <td>3167.0</td>\n",
       "    </tr>\n",
       "    <tr>\n",
       "      <th>18</th>\n",
       "      <td>M</td>\n",
       "      <td>30255.0</td>\n",
       "      <td>3025.5</td>\n",
       "    </tr>\n",
       "    <tr>\n",
       "      <th>24</th>\n",
       "      <td>M</td>\n",
       "      <td>32040.0</td>\n",
       "      <td>3204.0</td>\n",
       "    </tr>\n",
       "    <tr>\n",
       "      <th>27</th>\n",
       "      <td>F</td>\n",
       "      <td>30890.0</td>\n",
       "      <td>3089.0</td>\n",
       "    </tr>\n",
       "  </tbody>\n",
       "</table>\n",
       "</div>"
      ],
      "text/plain": [
       "   Gender    Salary    Bonus\n",
       "0       M  163040.0  16304.0\n",
       "1       M  108255.0  10825.5\n",
       "2       M   87975.0   8797.5\n",
       "3       F   46230.0   4623.0\n",
       "6       F   30475.0   3047.5\n",
       "13      F   31285.0   3128.5\n",
       "16      M   31670.0   3167.0\n",
       "18      M   30255.0   3025.5\n",
       "24      M   32040.0   3204.0\n",
       "27      F   30890.0   3089.0"
      ]
     },
     "execution_count": 35,
     "metadata": {},
     "output_type": "execute_result"
    }
   ],
   "source": [
    "df_staff_subset.head(10)"
   ]
  },
  {
   "cell_type": "code",
   "execution_count": 36,
   "metadata": {},
   "outputs": [
    {
     "data": {
      "text/plain": [
       "M    102\n",
       "F     84\n",
       "Name: Gender, dtype: int64"
      ]
     },
     "execution_count": 36,
     "metadata": {},
     "output_type": "execute_result"
    }
   ],
   "source": [
    "df_staff_subset['Gender'].value_counts()"
   ]
  },
  {
   "cell_type": "markdown",
   "metadata": {},
   "source": [
    "## 7. Flödeslogik och villkor i en funktion applicerad mot dataframe\n",
    "### Förfina logiken med egendiefinerad funktion som ancänds av apply metoden i en lambda funktion. Om det är en kvinna ska bonusen vara 20%, om en man -20%."
   ]
  },
  {
   "cell_type": "code",
   "execution_count": 37,
   "metadata": {},
   "outputs": [],
   "source": [
    "def metoo(gender, salery):\n",
    "    if gender == 'F':\n",
    "        bonus = salery * 0.2\n",
    "    else:\n",
    "        bonus = salery * (-0.2)\n",
    "    return bonus"
   ]
  },
  {
   "cell_type": "code",
   "execution_count": 38,
   "metadata": {},
   "outputs": [
    {
     "data": {
      "text/plain": [
       "-20.0"
      ]
     },
     "execution_count": 38,
     "metadata": {},
     "output_type": "execute_result"
    }
   ],
   "source": [
    "bonus = metoo('M',100)\n",
    "bonus"
   ]
  },
  {
   "cell_type": "markdown",
   "metadata": {},
   "source": [
    "### OBS! Förstår man nedan har man ett mycket kraftfullt verktyg för att manipupelera data på radnivå med Pandas"
   ]
  },
  {
   "cell_type": "code",
   "execution_count": 39,
   "metadata": {},
   "outputs": [],
   "source": [
    "df_staff['Mee_to_Bonus'] = df_staff.apply(lambda x: metoo(x['Gender'], x['Salary']), axis = 1) "
   ]
  },
  {
   "cell_type": "markdown",
   "metadata": {},
   "source": [
    "### Metoden apply appliceras på objektet df_staff. Denna metod tillåter att man skickar in en funktion. I exemplet ovan är det en lambda funktion som använder en egendefineradfunktion som argument (metoo). På varje rad appliceras funktionen metoo med argumenten df_staff['Gender'] och df_staff['Salary]. Lambda funktionen erbjuder möjligheter att använda funktioner i sammanhang där den vanliga funktionen inte fungerar. Det är väl använd tid att sätta sig in i lambda konceptet."
   ]
  },
  {
   "cell_type": "code",
   "execution_count": 40,
   "metadata": {},
   "outputs": [
    {
     "data": {
      "text/html": [
       "<div>\n",
       "<style scoped>\n",
       "    .dataframe tbody tr th:only-of-type {\n",
       "        vertical-align: middle;\n",
       "    }\n",
       "\n",
       "    .dataframe tbody tr th {\n",
       "        vertical-align: top;\n",
       "    }\n",
       "\n",
       "    .dataframe thead th {\n",
       "        text-align: right;\n",
       "    }\n",
       "</style>\n",
       "<table border=\"1\" class=\"dataframe\">\n",
       "  <thead>\n",
       "    <tr style=\"text-align: right;\">\n",
       "      <th></th>\n",
       "      <th>Gender</th>\n",
       "      <th>Salary</th>\n",
       "      <th>Mee_to_Bonus</th>\n",
       "    </tr>\n",
       "  </thead>\n",
       "  <tbody>\n",
       "    <tr>\n",
       "      <th>0</th>\n",
       "      <td>M</td>\n",
       "      <td>163040.0</td>\n",
       "      <td>-32608.0</td>\n",
       "    </tr>\n",
       "    <tr>\n",
       "      <th>1</th>\n",
       "      <td>M</td>\n",
       "      <td>108255.0</td>\n",
       "      <td>-21651.0</td>\n",
       "    </tr>\n",
       "    <tr>\n",
       "      <th>2</th>\n",
       "      <td>M</td>\n",
       "      <td>87975.0</td>\n",
       "      <td>-17595.0</td>\n",
       "    </tr>\n",
       "    <tr>\n",
       "      <th>3</th>\n",
       "      <td>F</td>\n",
       "      <td>46230.0</td>\n",
       "      <td>9246.0</td>\n",
       "    </tr>\n",
       "    <tr>\n",
       "      <th>4</th>\n",
       "      <td>F</td>\n",
       "      <td>27110.0</td>\n",
       "      <td>5422.0</td>\n",
       "    </tr>\n",
       "    <tr>\n",
       "      <th>5</th>\n",
       "      <td>M</td>\n",
       "      <td>26960.0</td>\n",
       "      <td>-5392.0</td>\n",
       "    </tr>\n",
       "    <tr>\n",
       "      <th>6</th>\n",
       "      <td>F</td>\n",
       "      <td>30475.0</td>\n",
       "      <td>6095.0</td>\n",
       "    </tr>\n",
       "    <tr>\n",
       "      <th>7</th>\n",
       "      <td>F</td>\n",
       "      <td>27660.0</td>\n",
       "      <td>5532.0</td>\n",
       "    </tr>\n",
       "    <tr>\n",
       "      <th>8</th>\n",
       "      <td>F</td>\n",
       "      <td>26495.0</td>\n",
       "      <td>5299.0</td>\n",
       "    </tr>\n",
       "    <tr>\n",
       "      <th>9</th>\n",
       "      <td>M</td>\n",
       "      <td>28615.0</td>\n",
       "      <td>-5723.0</td>\n",
       "    </tr>\n",
       "  </tbody>\n",
       "</table>\n",
       "</div>"
      ],
      "text/plain": [
       "  Gender    Salary  Mee_to_Bonus\n",
       "0      M  163040.0      -32608.0\n",
       "1      M  108255.0      -21651.0\n",
       "2      M   87975.0      -17595.0\n",
       "3      F   46230.0        9246.0\n",
       "4      F   27110.0        5422.0\n",
       "5      M   26960.0       -5392.0\n",
       "6      F   30475.0        6095.0\n",
       "7      F   27660.0        5532.0\n",
       "8      F   26495.0        5299.0\n",
       "9      M   28615.0       -5723.0"
      ]
     },
     "execution_count": 40,
     "metadata": {},
     "output_type": "execute_result"
    }
   ],
   "source": [
    "df_staff[['Gender','Salary','Mee_to_Bonus']].head(10)"
   ]
  },
  {
   "cell_type": "code",
   "execution_count": 41,
   "metadata": {},
   "outputs": [],
   "source": [
    "?df_staff.apply"
   ]
  },
  {
   "cell_type": "code",
   "execution_count": 42,
   "metadata": {},
   "outputs": [
    {
     "data": {
      "text/plain": [
       "method"
      ]
     },
     "execution_count": 42,
     "metadata": {},
     "output_type": "execute_result"
    }
   ],
   "source": [
    "type(df_staff.apply)"
   ]
  },
  {
   "cell_type": "markdown",
   "metadata": {},
   "source": [
    "## 8. Joina dataframes "
   ]
  },
  {
   "cell_type": "code",
   "execution_count": null,
   "metadata": {},
   "outputs": [],
   "source": [
    "df_cust = pd.read_sas('customer2.sas7bdat', encoding = 'Latin8')\n",
    "df_trans = pd.read_sas('transaction2.sas7bdat', encoding = 'Latin8')"
   ]
  },
  {
   "cell_type": "code",
   "execution_count": null,
   "metadata": {},
   "outputs": [],
   "source": [
    "df_cust.info()"
   ]
  },
  {
   "cell_type": "code",
   "execution_count": null,
   "metadata": {},
   "outputs": [],
   "source": [
    "df_trans.info()"
   ]
  },
  {
   "cell_type": "code",
   "execution_count": null,
   "metadata": {},
   "outputs": [],
   "source": [
    "df_cust.head()"
   ]
  },
  {
   "cell_type": "code",
   "execution_count": null,
   "metadata": {},
   "outputs": [],
   "source": [
    "df_cust = df_cust.drop_duplicates('ID')\n",
    "df_cust.head()"
   ]
  },
  {
   "cell_type": "code",
   "execution_count": null,
   "metadata": {},
   "outputs": [],
   "source": [
    "df_trans.head()"
   ]
  },
  {
   "cell_type": "code",
   "execution_count": null,
   "metadata": {},
   "outputs": [],
   "source": [
    "# Inner join\n",
    "df_merged_inner = df_cust.merge(df_trans, on = ['ID'], how = 'inner')\n",
    "df_merged_inner.head()\n"
   ]
  },
  {
   "cell_type": "code",
   "execution_count": null,
   "metadata": {},
   "outputs": [],
   "source": [
    "# Left join \n",
    "\n",
    "df_merged_left = df_cust.merge(df_trans, on = ['ID'], how = 'left')\n",
    "df_merged_left.head()"
   ]
  },
  {
   "cell_type": "code",
   "execution_count": null,
   "metadata": {},
   "outputs": [],
   "source": [
    "# Outer join\n",
    "\n",
    "df_merged_outer = df_cust.merge(df_trans, on = ['ID'], how = 'outer')\n",
    "df_merged_outer.head(6)"
   ]
  },
  {
   "cell_type": "markdown",
   "metadata": {
    "collapsed": true
   },
   "source": [
    "## 9. Konkatinera dataframes"
   ]
  },
  {
   "cell_type": "code",
   "execution_count": null,
   "metadata": {},
   "outputs": [],
   "source": [
    "df_merged = df_merged_outer.copy() "
   ]
  },
  {
   "cell_type": "code",
   "execution_count": null,
   "metadata": {},
   "outputs": [],
   "source": [
    "df_merged"
   ]
  },
  {
   "cell_type": "code",
   "execution_count": null,
   "metadata": {},
   "outputs": [],
   "source": [
    "concat_df = pd.concat([df_merged, df_merged_outer ], axis = 0)"
   ]
  },
  {
   "cell_type": "code",
   "execution_count": null,
   "metadata": {},
   "outputs": [],
   "source": [
    "concat_df.head(20)"
   ]
  },
  {
   "cell_type": "markdown",
   "metadata": {},
   "source": [
    "## 9. Split - Apply - Combine\n",
    "### Aggregering - summera data i en serie för att returnera en skalär.  Vi vill ta fram statistik över en gruppering på data: split- apply-combine konceptet"
   ]
  },
  {
   "cell_type": "markdown",
   "metadata": {},
   "source": [
    "* Split - Datat delas upp i delar på vald grupperingsvariabel\n",
    "* Apply - På delarna appliceras logik som returnerar skalär\n",
    "* Combine - Delarna sätts ihop på grupperingsvariabeln"
   ]
  },
  {
   "cell_type": "code",
   "execution_count": 43,
   "metadata": {},
   "outputs": [],
   "source": [
    "# Läser in nytt exempeldata.\n",
    "\n",
    "df_order_fact = pd.read_sas('order_fact.sas7bdat', encoding = 'Latin8')\n",
    "df_product_dim = pd.read_sas('product_dim.sas7bdat', encoding = 'Latin8')"
   ]
  },
  {
   "cell_type": "code",
   "execution_count": 44,
   "metadata": {},
   "outputs": [
    {
     "name": "stdout",
     "output_type": "stream",
     "text": [
      "<class 'pandas.core.frame.DataFrame'>\n",
      "RangeIndex: 481 entries, 0 to 480\n",
      "Data columns (total 8 columns):\n",
      " #   Column            Non-Null Count  Dtype  \n",
      "---  ------            --------------  -----  \n",
      " 0   Product_ID        481 non-null    float64\n",
      " 1   Product_Line      481 non-null    object \n",
      " 2   Product_Category  481 non-null    object \n",
      " 3   Product_Group     481 non-null    object \n",
      " 4   Product_Name      481 non-null    object \n",
      " 5   Supplier_Country  481 non-null    object \n",
      " 6   Supplier_Name     481 non-null    object \n",
      " 7   Supplier_ID       481 non-null    float64\n",
      "dtypes: float64(2), object(6)\n",
      "memory usage: 30.2+ KB\n"
     ]
    }
   ],
   "source": [
    "df_product_dim.info()"
   ]
  },
  {
   "cell_type": "code",
   "execution_count": 45,
   "metadata": {},
   "outputs": [
    {
     "data": {
      "text/html": [
       "<div>\n",
       "<style scoped>\n",
       "    .dataframe tbody tr th:only-of-type {\n",
       "        vertical-align: middle;\n",
       "    }\n",
       "\n",
       "    .dataframe tbody tr th {\n",
       "        vertical-align: top;\n",
       "    }\n",
       "\n",
       "    .dataframe thead th {\n",
       "        text-align: right;\n",
       "    }\n",
       "</style>\n",
       "<table border=\"1\" class=\"dataframe\">\n",
       "  <thead>\n",
       "    <tr style=\"text-align: right;\">\n",
       "      <th></th>\n",
       "      <th>Product_ID</th>\n",
       "      <th>Product_Line</th>\n",
       "      <th>Product_Category</th>\n",
       "      <th>Product_Group</th>\n",
       "      <th>Product_Name</th>\n",
       "      <th>Supplier_Country</th>\n",
       "      <th>Supplier_Name</th>\n",
       "      <th>Supplier_ID</th>\n",
       "    </tr>\n",
       "  </thead>\n",
       "  <tbody>\n",
       "    <tr>\n",
       "      <th>0</th>\n",
       "      <td>2.102001e+11</td>\n",
       "      <td>Children</td>\n",
       "      <td>Children Sports</td>\n",
       "      <td>A-Team, Kids</td>\n",
       "      <td>Kids Sweat Round Neck,Large Logo</td>\n",
       "      <td>US</td>\n",
       "      <td>A Team Sports</td>\n",
       "      <td>3298.0</td>\n",
       "    </tr>\n",
       "    <tr>\n",
       "      <th>1</th>\n",
       "      <td>2.102001e+11</td>\n",
       "      <td>Children</td>\n",
       "      <td>Children Sports</td>\n",
       "      <td>A-Team, Kids</td>\n",
       "      <td>Sweatshirt Children's O-Neck</td>\n",
       "      <td>US</td>\n",
       "      <td>A Team Sports</td>\n",
       "      <td>3298.0</td>\n",
       "    </tr>\n",
       "    <tr>\n",
       "      <th>2</th>\n",
       "      <td>2.102002e+11</td>\n",
       "      <td>Children</td>\n",
       "      <td>Children Sports</td>\n",
       "      <td>Bathing Suits, Kids</td>\n",
       "      <td>Sunfit Slow Swimming Trunks</td>\n",
       "      <td>US</td>\n",
       "      <td>Nautlius SportsWear Inc</td>\n",
       "      <td>6153.0</td>\n",
       "    </tr>\n",
       "    <tr>\n",
       "      <th>3</th>\n",
       "      <td>2.102002e+11</td>\n",
       "      <td>Children</td>\n",
       "      <td>Children Sports</td>\n",
       "      <td>Bathing Suits, Kids</td>\n",
       "      <td>Sunfit Stockton Swimming Trunks Jr.</td>\n",
       "      <td>US</td>\n",
       "      <td>Nautlius SportsWear Inc</td>\n",
       "      <td>6153.0</td>\n",
       "    </tr>\n",
       "    <tr>\n",
       "      <th>4</th>\n",
       "      <td>2.102003e+11</td>\n",
       "      <td>Children</td>\n",
       "      <td>Children Sports</td>\n",
       "      <td>Eclipse, Kid's Clothes</td>\n",
       "      <td>Fleece Cuff Pant Kid'S</td>\n",
       "      <td>US</td>\n",
       "      <td>Eclipse Inc</td>\n",
       "      <td>1303.0</td>\n",
       "    </tr>\n",
       "  </tbody>\n",
       "</table>\n",
       "</div>"
      ],
      "text/plain": [
       "     Product_ID Product_Line Product_Category           Product_Group  \\\n",
       "0  2.102001e+11     Children  Children Sports            A-Team, Kids   \n",
       "1  2.102001e+11     Children  Children Sports            A-Team, Kids   \n",
       "2  2.102002e+11     Children  Children Sports     Bathing Suits, Kids   \n",
       "3  2.102002e+11     Children  Children Sports     Bathing Suits, Kids   \n",
       "4  2.102003e+11     Children  Children Sports  Eclipse, Kid's Clothes   \n",
       "\n",
       "                          Product_Name Supplier_Country  \\\n",
       "0     Kids Sweat Round Neck,Large Logo               US   \n",
       "1         Sweatshirt Children's O-Neck               US   \n",
       "2          Sunfit Slow Swimming Trunks               US   \n",
       "3  Sunfit Stockton Swimming Trunks Jr.               US   \n",
       "4               Fleece Cuff Pant Kid'S               US   \n",
       "\n",
       "             Supplier_Name  Supplier_ID  \n",
       "0            A Team Sports       3298.0  \n",
       "1            A Team Sports       3298.0  \n",
       "2  Nautlius SportsWear Inc       6153.0  \n",
       "3  Nautlius SportsWear Inc       6153.0  \n",
       "4              Eclipse Inc       1303.0  "
      ]
     },
     "execution_count": 45,
     "metadata": {},
     "output_type": "execute_result"
    }
   ],
   "source": [
    "df_product_dim.head()"
   ]
  },
  {
   "cell_type": "code",
   "execution_count": 46,
   "metadata": {},
   "outputs": [
    {
     "name": "stdout",
     "output_type": "stream",
     "text": [
      "<class 'pandas.core.frame.DataFrame'>\n",
      "RangeIndex: 617 entries, 0 to 616\n",
      "Data columns (total 12 columns):\n",
      " #   Column              Non-Null Count  Dtype         \n",
      "---  ------              --------------  -----         \n",
      " 0   Customer_ID         617 non-null    float64       \n",
      " 1   Employee_ID         617 non-null    float64       \n",
      " 2   Street_ID           617 non-null    float64       \n",
      " 3   Order_Date          617 non-null    datetime64[ns]\n",
      " 4   Delivery_Date       617 non-null    datetime64[ns]\n",
      " 5   Order_ID            617 non-null    float64       \n",
      " 6   Order_Type          617 non-null    float64       \n",
      " 7   Product_ID          617 non-null    float64       \n",
      " 8   Quantity            617 non-null    float64       \n",
      " 9   Total_Retail_Price  617 non-null    float64       \n",
      " 10  CostPrice_Per_Unit  617 non-null    float64       \n",
      " 11  Discount            3 non-null      float64       \n",
      "dtypes: datetime64[ns](2), float64(10)\n",
      "memory usage: 58.0 KB\n"
     ]
    }
   ],
   "source": [
    "df_order_fact.info()"
   ]
  },
  {
   "cell_type": "code",
   "execution_count": 47,
   "metadata": {},
   "outputs": [],
   "source": [
    "### Joinar fakta tabell mot dimensonstabellen och lägger på produktkategori\n",
    "\n",
    "df_analys = df_order_fact.merge(df_product_dim[['Product_ID','Product_Line','Product_Category']],\n",
    "                                on = ['Product_ID'], how = 'inner')"
   ]
  },
  {
   "cell_type": "code",
   "execution_count": 48,
   "metadata": {},
   "outputs": [
    {
     "name": "stdout",
     "output_type": "stream",
     "text": [
      "<class 'pandas.core.frame.DataFrame'>\n",
      "Int64Index: 617 entries, 0 to 616\n",
      "Data columns (total 14 columns):\n",
      " #   Column              Non-Null Count  Dtype         \n",
      "---  ------              --------------  -----         \n",
      " 0   Customer_ID         617 non-null    float64       \n",
      " 1   Employee_ID         617 non-null    float64       \n",
      " 2   Street_ID           617 non-null    float64       \n",
      " 3   Order_Date          617 non-null    datetime64[ns]\n",
      " 4   Delivery_Date       617 non-null    datetime64[ns]\n",
      " 5   Order_ID            617 non-null    float64       \n",
      " 6   Order_Type          617 non-null    float64       \n",
      " 7   Product_ID          617 non-null    float64       \n",
      " 8   Quantity            617 non-null    float64       \n",
      " 9   Total_Retail_Price  617 non-null    float64       \n",
      " 10  CostPrice_Per_Unit  617 non-null    float64       \n",
      " 11  Discount            3 non-null      float64       \n",
      " 12  Product_Line        617 non-null    object        \n",
      " 13  Product_Category    617 non-null    object        \n",
      "dtypes: datetime64[ns](2), float64(10), object(2)\n",
      "memory usage: 72.3+ KB\n"
     ]
    }
   ],
   "source": [
    "df_analys.info()"
   ]
  },
  {
   "cell_type": "code",
   "execution_count": 49,
   "metadata": {},
   "outputs": [
    {
     "data": {
      "text/plain": [
       "Outdoors                    147\n",
       "Clothes                     121\n",
       "Assorted Sports Articles     79\n",
       "Golf                         74\n",
       "Shoes                        38\n",
       "Team Sports                  35\n",
       "Running - Jogging            30\n",
       "Children Sports              29\n",
       "Racket Sports                23\n",
       "Winter Sports                17\n",
       "Indoor Sports                16\n",
       "Swim Sports                   8\n",
       "Name: Product_Category, dtype: int64"
      ]
     },
     "execution_count": 49,
     "metadata": {},
     "output_type": "execute_result"
    }
   ],
   "source": [
    "df_analys['Product_Category'].value_counts()"
   ]
  },
  {
   "cell_type": "code",
   "execution_count": 50,
   "metadata": {},
   "outputs": [
    {
     "data": {
      "text/plain": [
       "Sports             282\n",
       "Clothes & Shoes    159\n",
       "Outdoors           147\n",
       "Children            29\n",
       "Name: Product_Line, dtype: int64"
      ]
     },
     "execution_count": 50,
     "metadata": {},
     "output_type": "execute_result"
    }
   ],
   "source": [
    "df_analys['Product_Line'].value_counts()"
   ]
  },
  {
   "cell_type": "code",
   "execution_count": 51,
   "metadata": {},
   "outputs": [
    {
     "data": {
      "text/plain": [
       "Sports             0.46\n",
       "Clothes & Shoes    0.26\n",
       "Outdoors           0.24\n",
       "Children           0.05\n",
       "Name: Product_Line, dtype: float64"
      ]
     },
     "execution_count": 51,
     "metadata": {},
     "output_type": "execute_result"
    }
   ],
   "source": [
    "# Andel av totalen\n",
    "round(df_analys['Product_Line'].value_counts()/len(df_analys),2)"
   ]
  },
  {
   "cell_type": "markdown",
   "metadata": {},
   "source": [
    "### Nu vill vi ta fram statistik på grupperingen Product Line - vi använder split - apply - combine konceptet. Först med Pandas optimerade metoder. Dessa anropas med agg metoden - returnerar skalär "
   ]
  },
  {
   "cell_type": "code",
   "execution_count": 52,
   "metadata": {},
   "outputs": [],
   "source": [
    "grouped = df_analys.groupby(['Product_Line','Product_Category']) "
   ]
  },
  {
   "cell_type": "code",
   "execution_count": 53,
   "metadata": {},
   "outputs": [
    {
     "data": {
      "text/plain": [
       "Product_Line     Product_Category        \n",
       "Children         Children Sports              55.737931\n",
       "Clothes & Shoes  Clothes                      91.269339\n",
       "                 Shoes                       150.028947\n",
       "Outdoors         Outdoors                    203.142857\n",
       "Sports           Assorted Sports Articles    185.907595\n",
       "                 Golf                        233.597027\n",
       "                 Indoor Sports               398.950000\n",
       "                 Racket Sports               144.969565\n",
       "                 Running - Jogging           112.926667\n",
       "                 Swim Sports                  47.887500\n",
       "                 Team Sports                  58.393429\n",
       "                 Winter Sports               255.842647\n",
       "Name: Total_Retail_Price, dtype: float64"
      ]
     },
     "execution_count": 53,
     "metadata": {},
     "output_type": "execute_result"
    }
   ],
   "source": [
    "result = grouped['Total_Retail_Price'].agg('mean')\n",
    "result"
   ]
  },
  {
   "cell_type": "code",
   "execution_count": 54,
   "metadata": {},
   "outputs": [
    {
     "data": {
      "text/html": [
       "<div>\n",
       "<style scoped>\n",
       "    .dataframe tbody tr th:only-of-type {\n",
       "        vertical-align: middle;\n",
       "    }\n",
       "\n",
       "    .dataframe tbody tr th {\n",
       "        vertical-align: top;\n",
       "    }\n",
       "\n",
       "    .dataframe thead th {\n",
       "        text-align: right;\n",
       "    }\n",
       "</style>\n",
       "<table border=\"1\" class=\"dataframe\">\n",
       "  <thead>\n",
       "    <tr style=\"text-align: right;\">\n",
       "      <th></th>\n",
       "      <th></th>\n",
       "      <th>count</th>\n",
       "      <th>mean</th>\n",
       "      <th>max</th>\n",
       "    </tr>\n",
       "    <tr>\n",
       "      <th>Product_Line</th>\n",
       "      <th>Product_Category</th>\n",
       "      <th></th>\n",
       "      <th></th>\n",
       "      <th></th>\n",
       "    </tr>\n",
       "  </thead>\n",
       "  <tbody>\n",
       "    <tr>\n",
       "      <th>Children</th>\n",
       "      <th>Children Sports</th>\n",
       "      <td>29</td>\n",
       "      <td>55.737931</td>\n",
       "      <td>134.0</td>\n",
       "    </tr>\n",
       "    <tr>\n",
       "      <th rowspan=\"2\" valign=\"top\">Clothes &amp; Shoes</th>\n",
       "      <th>Clothes</th>\n",
       "      <td>121</td>\n",
       "      <td>91.269339</td>\n",
       "      <td>408.8</td>\n",
       "    </tr>\n",
       "    <tr>\n",
       "      <th>Shoes</th>\n",
       "      <td>38</td>\n",
       "      <td>150.028947</td>\n",
       "      <td>406.0</td>\n",
       "    </tr>\n",
       "    <tr>\n",
       "      <th>Outdoors</th>\n",
       "      <th>Outdoors</th>\n",
       "      <td>147</td>\n",
       "      <td>203.142857</td>\n",
       "      <td>1687.5</td>\n",
       "    </tr>\n",
       "    <tr>\n",
       "      <th rowspan=\"8\" valign=\"top\">Sports</th>\n",
       "      <th>Assorted Sports Articles</th>\n",
       "      <td>79</td>\n",
       "      <td>185.907595</td>\n",
       "      <td>1064.0</td>\n",
       "    </tr>\n",
       "    <tr>\n",
       "      <th>Golf</th>\n",
       "      <td>74</td>\n",
       "      <td>233.597027</td>\n",
       "      <td>1937.2</td>\n",
       "    </tr>\n",
       "    <tr>\n",
       "      <th>Indoor Sports</th>\n",
       "      <td>16</td>\n",
       "      <td>398.950000</td>\n",
       "      <td>1561.8</td>\n",
       "    </tr>\n",
       "    <tr>\n",
       "      <th>Racket Sports</th>\n",
       "      <td>23</td>\n",
       "      <td>144.969565</td>\n",
       "      <td>1250.4</td>\n",
       "    </tr>\n",
       "    <tr>\n",
       "      <th>Running - Jogging</th>\n",
       "      <td>30</td>\n",
       "      <td>112.926667</td>\n",
       "      <td>403.5</td>\n",
       "    </tr>\n",
       "    <tr>\n",
       "      <th>Swim Sports</th>\n",
       "      <td>8</td>\n",
       "      <td>47.887500</td>\n",
       "      <td>70.2</td>\n",
       "    </tr>\n",
       "    <tr>\n",
       "      <th>Team Sports</th>\n",
       "      <td>35</td>\n",
       "      <td>58.393429</td>\n",
       "      <td>155.6</td>\n",
       "    </tr>\n",
       "    <tr>\n",
       "      <th>Winter Sports</th>\n",
       "      <td>17</td>\n",
       "      <td>255.842647</td>\n",
       "      <td>949.8</td>\n",
       "    </tr>\n",
       "  </tbody>\n",
       "</table>\n",
       "</div>"
      ],
      "text/plain": [
       "                                          count        mean     max\n",
       "Product_Line    Product_Category                                   \n",
       "Children        Children Sports              29   55.737931   134.0\n",
       "Clothes & Shoes Clothes                     121   91.269339   408.8\n",
       "                Shoes                        38  150.028947   406.0\n",
       "Outdoors        Outdoors                    147  203.142857  1687.5\n",
       "Sports          Assorted Sports Articles     79  185.907595  1064.0\n",
       "                Golf                         74  233.597027  1937.2\n",
       "                Indoor Sports                16  398.950000  1561.8\n",
       "                Racket Sports                23  144.969565  1250.4\n",
       "                Running - Jogging            30  112.926667   403.5\n",
       "                Swim Sports                   8   47.887500    70.2\n",
       "                Team Sports                  35   58.393429   155.6\n",
       "                Winter Sports                17  255.842647   949.8"
      ]
     },
     "execution_count": 54,
     "metadata": {},
     "output_type": "execute_result"
    }
   ],
   "source": [
    "### Du kan använda flera funktioner i samma anrop\n",
    "funtions = ['count','mean','max']\n",
    "result1 = grouped['Total_Retail_Price'].agg(funtions)\n",
    "result1\n",
    "\n"
   ]
  },
  {
   "cell_type": "markdown",
   "metadata": {},
   "source": [
    "### Om vi inte är nöjda med de defaulta namnen -använd en tuple"
   ]
  },
  {
   "cell_type": "code",
   "execution_count": 55,
   "metadata": {},
   "outputs": [
    {
     "data": {
      "text/html": [
       "<div>\n",
       "<style scoped>\n",
       "    .dataframe tbody tr th:only-of-type {\n",
       "        vertical-align: middle;\n",
       "    }\n",
       "\n",
       "    .dataframe tbody tr th {\n",
       "        vertical-align: top;\n",
       "    }\n",
       "\n",
       "    .dataframe thead th {\n",
       "        text-align: right;\n",
       "    }\n",
       "</style>\n",
       "<table border=\"1\" class=\"dataframe\">\n",
       "  <thead>\n",
       "    <tr style=\"text-align: right;\">\n",
       "      <th></th>\n",
       "      <th></th>\n",
       "      <th>N</th>\n",
       "      <th>Medel</th>\n",
       "      <th>Max</th>\n",
       "    </tr>\n",
       "    <tr>\n",
       "      <th>Product_Line</th>\n",
       "      <th>Product_Category</th>\n",
       "      <th></th>\n",
       "      <th></th>\n",
       "      <th></th>\n",
       "    </tr>\n",
       "  </thead>\n",
       "  <tbody>\n",
       "    <tr>\n",
       "      <th>Children</th>\n",
       "      <th>Children Sports</th>\n",
       "      <td>29</td>\n",
       "      <td>55.737931</td>\n",
       "      <td>134.0</td>\n",
       "    </tr>\n",
       "    <tr>\n",
       "      <th rowspan=\"2\" valign=\"top\">Clothes &amp; Shoes</th>\n",
       "      <th>Clothes</th>\n",
       "      <td>121</td>\n",
       "      <td>91.269339</td>\n",
       "      <td>408.8</td>\n",
       "    </tr>\n",
       "    <tr>\n",
       "      <th>Shoes</th>\n",
       "      <td>38</td>\n",
       "      <td>150.028947</td>\n",
       "      <td>406.0</td>\n",
       "    </tr>\n",
       "    <tr>\n",
       "      <th>Outdoors</th>\n",
       "      <th>Outdoors</th>\n",
       "      <td>147</td>\n",
       "      <td>203.142857</td>\n",
       "      <td>1687.5</td>\n",
       "    </tr>\n",
       "    <tr>\n",
       "      <th rowspan=\"8\" valign=\"top\">Sports</th>\n",
       "      <th>Assorted Sports Articles</th>\n",
       "      <td>79</td>\n",
       "      <td>185.907595</td>\n",
       "      <td>1064.0</td>\n",
       "    </tr>\n",
       "    <tr>\n",
       "      <th>Golf</th>\n",
       "      <td>74</td>\n",
       "      <td>233.597027</td>\n",
       "      <td>1937.2</td>\n",
       "    </tr>\n",
       "    <tr>\n",
       "      <th>Indoor Sports</th>\n",
       "      <td>16</td>\n",
       "      <td>398.950000</td>\n",
       "      <td>1561.8</td>\n",
       "    </tr>\n",
       "    <tr>\n",
       "      <th>Racket Sports</th>\n",
       "      <td>23</td>\n",
       "      <td>144.969565</td>\n",
       "      <td>1250.4</td>\n",
       "    </tr>\n",
       "    <tr>\n",
       "      <th>Running - Jogging</th>\n",
       "      <td>30</td>\n",
       "      <td>112.926667</td>\n",
       "      <td>403.5</td>\n",
       "    </tr>\n",
       "    <tr>\n",
       "      <th>Swim Sports</th>\n",
       "      <td>8</td>\n",
       "      <td>47.887500</td>\n",
       "      <td>70.2</td>\n",
       "    </tr>\n",
       "    <tr>\n",
       "      <th>Team Sports</th>\n",
       "      <td>35</td>\n",
       "      <td>58.393429</td>\n",
       "      <td>155.6</td>\n",
       "    </tr>\n",
       "    <tr>\n",
       "      <th>Winter Sports</th>\n",
       "      <td>17</td>\n",
       "      <td>255.842647</td>\n",
       "      <td>949.8</td>\n",
       "    </tr>\n",
       "  </tbody>\n",
       "</table>\n",
       "</div>"
      ],
      "text/plain": [
       "                                            N       Medel     Max\n",
       "Product_Line    Product_Category                                 \n",
       "Children        Children Sports            29   55.737931   134.0\n",
       "Clothes & Shoes Clothes                   121   91.269339   408.8\n",
       "                Shoes                      38  150.028947   406.0\n",
       "Outdoors        Outdoors                  147  203.142857  1687.5\n",
       "Sports          Assorted Sports Articles   79  185.907595  1064.0\n",
       "                Golf                       74  233.597027  1937.2\n",
       "                Indoor Sports              16  398.950000  1561.8\n",
       "                Racket Sports              23  144.969565  1250.4\n",
       "                Running - Jogging          30  112.926667   403.5\n",
       "                Swim Sports                 8   47.887500    70.2\n",
       "                Team Sports                35   58.393429   155.6\n",
       "                Winter Sports              17  255.842647   949.8"
      ]
     },
     "execution_count": 55,
     "metadata": {},
     "output_type": "execute_result"
    }
   ],
   "source": [
    "### Du kan använda flera funktioner i samma anrop\n",
    "funtions2 = [('N','count'),('Medel','mean'),('Max','max')]\n",
    "\n",
    "result2 = grouped['Total_Retail_Price'].agg(funtions2)\n",
    "result2"
   ]
  },
  {
   "cell_type": "markdown",
   "metadata": {},
   "source": [
    "### Slutligen gör vi en egen funktion som vi använder apply mot"
   ]
  },
  {
   "cell_type": "markdown",
   "metadata": {},
   "source": [
    "### Vi vill plocka de fem högs betalda anställda per kön i df_staff"
   ]
  },
  {
   "cell_type": "code",
   "execution_count": null,
   "metadata": {},
   "outputs": [],
   "source": [
    "df_staff.info()"
   ]
  },
  {
   "cell_type": "code",
   "execution_count": 56,
   "metadata": {},
   "outputs": [],
   "source": [
    "# Gör din egna funktion\n",
    "def top(df, n = 5, column ='Salary'): \n",
    "    return df.sort_values(by = column)[-n:]"
   ]
  },
  {
   "cell_type": "code",
   "execution_count": 57,
   "metadata": {},
   "outputs": [
    {
     "data": {
      "text/html": [
       "<div>\n",
       "<style scoped>\n",
       "    .dataframe tbody tr th:only-of-type {\n",
       "        vertical-align: middle;\n",
       "    }\n",
       "\n",
       "    .dataframe tbody tr th {\n",
       "        vertical-align: top;\n",
       "    }\n",
       "\n",
       "    .dataframe thead th {\n",
       "        text-align: right;\n",
       "    }\n",
       "</style>\n",
       "<table border=\"1\" class=\"dataframe\">\n",
       "  <thead>\n",
       "    <tr style=\"text-align: right;\">\n",
       "      <th></th>\n",
       "      <th>Employee_ID</th>\n",
       "      <th>Job_Title</th>\n",
       "      <th>Salary</th>\n",
       "      <th>Gender</th>\n",
       "      <th>Birth_Date</th>\n",
       "      <th>Emp_Hire_Date</th>\n",
       "      <th>Emp_Term_Date</th>\n",
       "      <th>Manager_ID</th>\n",
       "      <th>start_date</th>\n",
       "      <th>end_date</th>\n",
       "      <th>Double</th>\n",
       "      <th>P_start_date</th>\n",
       "      <th>Year</th>\n",
       "      <th>Month</th>\n",
       "      <th>day</th>\n",
       "      <th>Truth</th>\n",
       "      <th>Bonus</th>\n",
       "      <th>Mee_to_Bonus</th>\n",
       "    </tr>\n",
       "  </thead>\n",
       "  <tbody>\n",
       "    <tr>\n",
       "      <th>416</th>\n",
       "      <td>121141.0</td>\n",
       "      <td>Vice President</td>\n",
       "      <td>194885.0</td>\n",
       "      <td>M</td>\n",
       "      <td>1948-06-19</td>\n",
       "      <td>1978-01-01</td>\n",
       "      <td>NaT</td>\n",
       "      <td>120261.0</td>\n",
       "      <td>1978-01-01</td>\n",
       "      <td>9999-12-31</td>\n",
       "      <td>389770.0</td>\n",
       "      <td>1978-01-01</td>\n",
       "      <td>1978</td>\n",
       "      <td>1</td>\n",
       "      <td>1</td>\n",
       "      <td>False</td>\n",
       "      <td>19488.5</td>\n",
       "      <td>-38977.0</td>\n",
       "    </tr>\n",
       "    <tr>\n",
       "      <th>99</th>\n",
       "      <td>120260.0</td>\n",
       "      <td>Chief Marketing Officer</td>\n",
       "      <td>207885.0</td>\n",
       "      <td>F</td>\n",
       "      <td>1968-12-02</td>\n",
       "      <td>1988-11-01</td>\n",
       "      <td>NaT</td>\n",
       "      <td>120259.0</td>\n",
       "      <td>1988-11-01</td>\n",
       "      <td>9999-12-31</td>\n",
       "      <td>415770.0</td>\n",
       "      <td>1988-11-01</td>\n",
       "      <td>1988</td>\n",
       "      <td>11</td>\n",
       "      <td>11</td>\n",
       "      <td>True</td>\n",
       "      <td>20788.5</td>\n",
       "      <td>41577.0</td>\n",
       "    </tr>\n",
       "    <tr>\n",
       "      <th>100</th>\n",
       "      <td>120261.0</td>\n",
       "      <td>Chief Sales Officer</td>\n",
       "      <td>243190.0</td>\n",
       "      <td>M</td>\n",
       "      <td>1973-02-21</td>\n",
       "      <td>1991-08-01</td>\n",
       "      <td>NaT</td>\n",
       "      <td>120259.0</td>\n",
       "      <td>1991-08-01</td>\n",
       "      <td>9999-12-31</td>\n",
       "      <td>486380.0</td>\n",
       "      <td>1991-08-01</td>\n",
       "      <td>1991</td>\n",
       "      <td>8</td>\n",
       "      <td>8</td>\n",
       "      <td>False</td>\n",
       "      <td>24319.0</td>\n",
       "      <td>-48638.0</td>\n",
       "    </tr>\n",
       "    <tr>\n",
       "      <th>101</th>\n",
       "      <td>120262.0</td>\n",
       "      <td>Chief Financial Officer</td>\n",
       "      <td>268455.0</td>\n",
       "      <td>M</td>\n",
       "      <td>1973-10-21</td>\n",
       "      <td>1992-09-01</td>\n",
       "      <td>NaT</td>\n",
       "      <td>120259.0</td>\n",
       "      <td>1992-09-01</td>\n",
       "      <td>9999-12-31</td>\n",
       "      <td>536910.0</td>\n",
       "      <td>1992-09-01</td>\n",
       "      <td>1992</td>\n",
       "      <td>9</td>\n",
       "      <td>9</td>\n",
       "      <td>False</td>\n",
       "      <td>26845.5</td>\n",
       "      <td>-53691.0</td>\n",
       "    </tr>\n",
       "    <tr>\n",
       "      <th>98</th>\n",
       "      <td>120259.0</td>\n",
       "      <td>Chief Executive Officer</td>\n",
       "      <td>433800.0</td>\n",
       "      <td>M</td>\n",
       "      <td>1968-01-25</td>\n",
       "      <td>1993-09-01</td>\n",
       "      <td>NaT</td>\n",
       "      <td>NaN</td>\n",
       "      <td>1993-09-01</td>\n",
       "      <td>9999-12-31</td>\n",
       "      <td>867600.0</td>\n",
       "      <td>1993-09-01</td>\n",
       "      <td>1993</td>\n",
       "      <td>9</td>\n",
       "      <td>9</td>\n",
       "      <td>False</td>\n",
       "      <td>43380.0</td>\n",
       "      <td>-86760.0</td>\n",
       "    </tr>\n",
       "  </tbody>\n",
       "</table>\n",
       "</div>"
      ],
      "text/plain": [
       "     Employee_ID                Job_Title    Salary Gender Birth_Date  \\\n",
       "416     121141.0           Vice President  194885.0      M 1948-06-19   \n",
       "99      120260.0  Chief Marketing Officer  207885.0      F 1968-12-02   \n",
       "100     120261.0      Chief Sales Officer  243190.0      M 1973-02-21   \n",
       "101     120262.0  Chief Financial Officer  268455.0      M 1973-10-21   \n",
       "98      120259.0  Chief Executive Officer  433800.0      M 1968-01-25   \n",
       "\n",
       "    Emp_Hire_Date Emp_Term_Date  Manager_ID  start_date    end_date    Double  \\\n",
       "416    1978-01-01           NaT    120261.0  1978-01-01  9999-12-31  389770.0   \n",
       "99     1988-11-01           NaT    120259.0  1988-11-01  9999-12-31  415770.0   \n",
       "100    1991-08-01           NaT    120259.0  1991-08-01  9999-12-31  486380.0   \n",
       "101    1992-09-01           NaT    120259.0  1992-09-01  9999-12-31  536910.0   \n",
       "98     1993-09-01           NaT         NaN  1993-09-01  9999-12-31  867600.0   \n",
       "\n",
       "    P_start_date  Year  Month  day  Truth    Bonus  Mee_to_Bonus  \n",
       "416   1978-01-01  1978      1    1  False  19488.5      -38977.0  \n",
       "99    1988-11-01  1988     11   11   True  20788.5       41577.0  \n",
       "100   1991-08-01  1991      8    8  False  24319.0      -48638.0  \n",
       "101   1992-09-01  1992      9    9  False  26845.5      -53691.0  \n",
       "98    1993-09-01  1993      9    9  False  43380.0      -86760.0  "
      ]
     },
     "execution_count": 57,
     "metadata": {},
     "output_type": "execute_result"
    }
   ],
   "source": [
    "top(df_staff)"
   ]
  },
  {
   "cell_type": "code",
   "execution_count": 58,
   "metadata": {},
   "outputs": [
    {
     "data": {
      "text/html": [
       "<div>\n",
       "<style scoped>\n",
       "    .dataframe tbody tr th:only-of-type {\n",
       "        vertical-align: middle;\n",
       "    }\n",
       "\n",
       "    .dataframe tbody tr th {\n",
       "        vertical-align: top;\n",
       "    }\n",
       "\n",
       "    .dataframe thead th {\n",
       "        text-align: right;\n",
       "    }\n",
       "</style>\n",
       "<table border=\"1\" class=\"dataframe\">\n",
       "  <thead>\n",
       "    <tr style=\"text-align: right;\">\n",
       "      <th></th>\n",
       "      <th></th>\n",
       "      <th>Employee_ID</th>\n",
       "      <th>Job_Title</th>\n",
       "      <th>Salary</th>\n",
       "      <th>Gender</th>\n",
       "      <th>Birth_Date</th>\n",
       "      <th>Emp_Hire_Date</th>\n",
       "      <th>Emp_Term_Date</th>\n",
       "      <th>Manager_ID</th>\n",
       "      <th>start_date</th>\n",
       "      <th>end_date</th>\n",
       "      <th>Double</th>\n",
       "      <th>P_start_date</th>\n",
       "      <th>Year</th>\n",
       "      <th>Month</th>\n",
       "      <th>day</th>\n",
       "      <th>Truth</th>\n",
       "      <th>Bonus</th>\n",
       "      <th>Mee_to_Bonus</th>\n",
       "    </tr>\n",
       "    <tr>\n",
       "      <th>Gender</th>\n",
       "      <th></th>\n",
       "      <th></th>\n",
       "      <th></th>\n",
       "      <th></th>\n",
       "      <th></th>\n",
       "      <th></th>\n",
       "      <th></th>\n",
       "      <th></th>\n",
       "      <th></th>\n",
       "      <th></th>\n",
       "      <th></th>\n",
       "      <th></th>\n",
       "      <th></th>\n",
       "      <th></th>\n",
       "      <th></th>\n",
       "      <th></th>\n",
       "      <th></th>\n",
       "      <th></th>\n",
       "      <th></th>\n",
       "    </tr>\n",
       "  </thead>\n",
       "  <tbody>\n",
       "    <tr>\n",
       "      <th rowspan=\"5\" valign=\"top\">F</th>\n",
       "      <th>248</th>\n",
       "      <td>120798.0</td>\n",
       "      <td>Senior Project Manager</td>\n",
       "      <td>80755.0</td>\n",
       "      <td>F</td>\n",
       "      <td>1963-06-23</td>\n",
       "      <td>1991-01-01</td>\n",
       "      <td>NaT</td>\n",
       "      <td>120800.0</td>\n",
       "      <td>1991-01-01</td>\n",
       "      <td>9999-12-31</td>\n",
       "      <td>161510.0</td>\n",
       "      <td>1991-01-01</td>\n",
       "      <td>1991</td>\n",
       "      <td>1</td>\n",
       "      <td>1</td>\n",
       "      <td>True</td>\n",
       "      <td>8075.5</td>\n",
       "      <td>16151.0</td>\n",
       "    </tr>\n",
       "    <tr>\n",
       "      <th>419</th>\n",
       "      <td>121144.0</td>\n",
       "      <td>Sales Manager</td>\n",
       "      <td>83505.0</td>\n",
       "      <td>F</td>\n",
       "      <td>1968-06-28</td>\n",
       "      <td>1995-11-01</td>\n",
       "      <td>NaT</td>\n",
       "      <td>121142.0</td>\n",
       "      <td>1995-11-01</td>\n",
       "      <td>9999-12-31</td>\n",
       "      <td>167010.0</td>\n",
       "      <td>1995-11-01</td>\n",
       "      <td>1995</td>\n",
       "      <td>11</td>\n",
       "      <td>11</td>\n",
       "      <td>True</td>\n",
       "      <td>8350.5</td>\n",
       "      <td>16701.0</td>\n",
       "    </tr>\n",
       "    <tr>\n",
       "      <th>125</th>\n",
       "      <td>120661.0</td>\n",
       "      <td>Senior Logistics Manager</td>\n",
       "      <td>85495.0</td>\n",
       "      <td>F</td>\n",
       "      <td>1958-11-27</td>\n",
       "      <td>1988-01-01</td>\n",
       "      <td>2007-06-30</td>\n",
       "      <td>120659.0</td>\n",
       "      <td>1988-01-01</td>\n",
       "      <td>2007-06-30</td>\n",
       "      <td>170990.0</td>\n",
       "      <td>1988-01-01</td>\n",
       "      <td>1988</td>\n",
       "      <td>1</td>\n",
       "      <td>1</td>\n",
       "      <td>True</td>\n",
       "      <td>8549.5</td>\n",
       "      <td>17099.0</td>\n",
       "    </tr>\n",
       "    <tr>\n",
       "      <th>169</th>\n",
       "      <td>120719.0</td>\n",
       "      <td>Senior Marketing Manager</td>\n",
       "      <td>87420.0</td>\n",
       "      <td>F</td>\n",
       "      <td>1973-01-22</td>\n",
       "      <td>2000-02-01</td>\n",
       "      <td>NaT</td>\n",
       "      <td>120260.0</td>\n",
       "      <td>2000-02-01</td>\n",
       "      <td>9999-12-31</td>\n",
       "      <td>174840.0</td>\n",
       "      <td>2000-02-01</td>\n",
       "      <td>2000</td>\n",
       "      <td>2</td>\n",
       "      <td>2</td>\n",
       "      <td>True</td>\n",
       "      <td>8742.0</td>\n",
       "      <td>17484.0</td>\n",
       "    </tr>\n",
       "    <tr>\n",
       "      <th>99</th>\n",
       "      <td>120260.0</td>\n",
       "      <td>Chief Marketing Officer</td>\n",
       "      <td>207885.0</td>\n",
       "      <td>F</td>\n",
       "      <td>1968-12-02</td>\n",
       "      <td>1988-11-01</td>\n",
       "      <td>NaT</td>\n",
       "      <td>120259.0</td>\n",
       "      <td>1988-11-01</td>\n",
       "      <td>9999-12-31</td>\n",
       "      <td>415770.0</td>\n",
       "      <td>1988-11-01</td>\n",
       "      <td>1988</td>\n",
       "      <td>11</td>\n",
       "      <td>11</td>\n",
       "      <td>True</td>\n",
       "      <td>20788.5</td>\n",
       "      <td>41577.0</td>\n",
       "    </tr>\n",
       "    <tr>\n",
       "      <th rowspan=\"5\" valign=\"top\">M</th>\n",
       "      <th>0</th>\n",
       "      <td>120101.0</td>\n",
       "      <td>Director</td>\n",
       "      <td>163040.0</td>\n",
       "      <td>M</td>\n",
       "      <td>1980-08-18</td>\n",
       "      <td>2007-07-01</td>\n",
       "      <td>NaT</td>\n",
       "      <td>120261.0</td>\n",
       "      <td>2007-07-01</td>\n",
       "      <td>9999-12-31</td>\n",
       "      <td>326080.0</td>\n",
       "      <td>2007-07-01</td>\n",
       "      <td>2007</td>\n",
       "      <td>7</td>\n",
       "      <td>7</td>\n",
       "      <td>False</td>\n",
       "      <td>16304.0</td>\n",
       "      <td>-32608.0</td>\n",
       "    </tr>\n",
       "    <tr>\n",
       "      <th>416</th>\n",
       "      <td>121141.0</td>\n",
       "      <td>Vice President</td>\n",
       "      <td>194885.0</td>\n",
       "      <td>M</td>\n",
       "      <td>1948-06-19</td>\n",
       "      <td>1978-01-01</td>\n",
       "      <td>NaT</td>\n",
       "      <td>120261.0</td>\n",
       "      <td>1978-01-01</td>\n",
       "      <td>9999-12-31</td>\n",
       "      <td>389770.0</td>\n",
       "      <td>1978-01-01</td>\n",
       "      <td>1978</td>\n",
       "      <td>1</td>\n",
       "      <td>1</td>\n",
       "      <td>False</td>\n",
       "      <td>19488.5</td>\n",
       "      <td>-38977.0</td>\n",
       "    </tr>\n",
       "    <tr>\n",
       "      <th>100</th>\n",
       "      <td>120261.0</td>\n",
       "      <td>Chief Sales Officer</td>\n",
       "      <td>243190.0</td>\n",
       "      <td>M</td>\n",
       "      <td>1973-02-21</td>\n",
       "      <td>1991-08-01</td>\n",
       "      <td>NaT</td>\n",
       "      <td>120259.0</td>\n",
       "      <td>1991-08-01</td>\n",
       "      <td>9999-12-31</td>\n",
       "      <td>486380.0</td>\n",
       "      <td>1991-08-01</td>\n",
       "      <td>1991</td>\n",
       "      <td>8</td>\n",
       "      <td>8</td>\n",
       "      <td>False</td>\n",
       "      <td>24319.0</td>\n",
       "      <td>-48638.0</td>\n",
       "    </tr>\n",
       "    <tr>\n",
       "      <th>101</th>\n",
       "      <td>120262.0</td>\n",
       "      <td>Chief Financial Officer</td>\n",
       "      <td>268455.0</td>\n",
       "      <td>M</td>\n",
       "      <td>1973-10-21</td>\n",
       "      <td>1992-09-01</td>\n",
       "      <td>NaT</td>\n",
       "      <td>120259.0</td>\n",
       "      <td>1992-09-01</td>\n",
       "      <td>9999-12-31</td>\n",
       "      <td>536910.0</td>\n",
       "      <td>1992-09-01</td>\n",
       "      <td>1992</td>\n",
       "      <td>9</td>\n",
       "      <td>9</td>\n",
       "      <td>False</td>\n",
       "      <td>26845.5</td>\n",
       "      <td>-53691.0</td>\n",
       "    </tr>\n",
       "    <tr>\n",
       "      <th>98</th>\n",
       "      <td>120259.0</td>\n",
       "      <td>Chief Executive Officer</td>\n",
       "      <td>433800.0</td>\n",
       "      <td>M</td>\n",
       "      <td>1968-01-25</td>\n",
       "      <td>1993-09-01</td>\n",
       "      <td>NaT</td>\n",
       "      <td>NaN</td>\n",
       "      <td>1993-09-01</td>\n",
       "      <td>9999-12-31</td>\n",
       "      <td>867600.0</td>\n",
       "      <td>1993-09-01</td>\n",
       "      <td>1993</td>\n",
       "      <td>9</td>\n",
       "      <td>9</td>\n",
       "      <td>False</td>\n",
       "      <td>43380.0</td>\n",
       "      <td>-86760.0</td>\n",
       "    </tr>\n",
       "  </tbody>\n",
       "</table>\n",
       "</div>"
      ],
      "text/plain": [
       "            Employee_ID                 Job_Title    Salary Gender Birth_Date  \\\n",
       "Gender                                                                          \n",
       "F      248     120798.0    Senior Project Manager   80755.0      F 1963-06-23   \n",
       "       419     121144.0             Sales Manager   83505.0      F 1968-06-28   \n",
       "       125     120661.0  Senior Logistics Manager   85495.0      F 1958-11-27   \n",
       "       169     120719.0  Senior Marketing Manager   87420.0      F 1973-01-22   \n",
       "       99      120260.0   Chief Marketing Officer  207885.0      F 1968-12-02   \n",
       "M      0       120101.0                  Director  163040.0      M 1980-08-18   \n",
       "       416     121141.0            Vice President  194885.0      M 1948-06-19   \n",
       "       100     120261.0       Chief Sales Officer  243190.0      M 1973-02-21   \n",
       "       101     120262.0   Chief Financial Officer  268455.0      M 1973-10-21   \n",
       "       98      120259.0   Chief Executive Officer  433800.0      M 1968-01-25   \n",
       "\n",
       "           Emp_Hire_Date Emp_Term_Date  Manager_ID  start_date    end_date  \\\n",
       "Gender                                                                       \n",
       "F      248    1991-01-01           NaT    120800.0  1991-01-01  9999-12-31   \n",
       "       419    1995-11-01           NaT    121142.0  1995-11-01  9999-12-31   \n",
       "       125    1988-01-01    2007-06-30    120659.0  1988-01-01  2007-06-30   \n",
       "       169    2000-02-01           NaT    120260.0  2000-02-01  9999-12-31   \n",
       "       99     1988-11-01           NaT    120259.0  1988-11-01  9999-12-31   \n",
       "M      0      2007-07-01           NaT    120261.0  2007-07-01  9999-12-31   \n",
       "       416    1978-01-01           NaT    120261.0  1978-01-01  9999-12-31   \n",
       "       100    1991-08-01           NaT    120259.0  1991-08-01  9999-12-31   \n",
       "       101    1992-09-01           NaT    120259.0  1992-09-01  9999-12-31   \n",
       "       98     1993-09-01           NaT         NaN  1993-09-01  9999-12-31   \n",
       "\n",
       "              Double P_start_date  Year  Month  day  Truth    Bonus  \\\n",
       "Gender                                                                \n",
       "F      248  161510.0   1991-01-01  1991      1    1   True   8075.5   \n",
       "       419  167010.0   1995-11-01  1995     11   11   True   8350.5   \n",
       "       125  170990.0   1988-01-01  1988      1    1   True   8549.5   \n",
       "       169  174840.0   2000-02-01  2000      2    2   True   8742.0   \n",
       "       99   415770.0   1988-11-01  1988     11   11   True  20788.5   \n",
       "M      0    326080.0   2007-07-01  2007      7    7  False  16304.0   \n",
       "       416  389770.0   1978-01-01  1978      1    1  False  19488.5   \n",
       "       100  486380.0   1991-08-01  1991      8    8  False  24319.0   \n",
       "       101  536910.0   1992-09-01  1992      9    9  False  26845.5   \n",
       "       98   867600.0   1993-09-01  1993      9    9  False  43380.0   \n",
       "\n",
       "            Mee_to_Bonus  \n",
       "Gender                    \n",
       "F      248       16151.0  \n",
       "       419       16701.0  \n",
       "       125       17099.0  \n",
       "       169       17484.0  \n",
       "       99        41577.0  \n",
       "M      0        -32608.0  \n",
       "       416      -38977.0  \n",
       "       100      -48638.0  \n",
       "       101      -53691.0  \n",
       "       98       -86760.0  "
      ]
     },
     "execution_count": 58,
     "metadata": {},
     "output_type": "execute_result"
    }
   ],
   "source": [
    "# Nu grupperar vi på kön och plockar de med högsta lönerna per grupp\n",
    "\n",
    "df_staff.groupby('Gender').apply(top)"
   ]
  },
  {
   "cell_type": "markdown",
   "metadata": {},
   "source": [
    "## 10. Visualisering - Matplotlib\n",
    "### Det finns ett helt ekosystem för visaulisering. Grundmodulen för detta är matplotlib som redan är importerad i denna notebook. Vi ska göra två enkla visualiseringar för att visa konceptet"
   ]
  },
  {
   "cell_type": "code",
   "execution_count": null,
   "metadata": {},
   "outputs": [],
   "source": [
    "# Definierar hela arean\n",
    "fig = plt.figure(figsize = (10,5))\n",
    "# Skapar grafobjekt som ska läggas in i arean ovan\n",
    "ax = fig.add_subplot(1,1,1)\n",
    "\n",
    "ax.set_title('Inkomst fördelat på kön')\n",
    "\n",
    "bar_serie = round(df_staff.groupby('Gender')['Salary'].mean())\n",
    "\n",
    "bar_serie.plot(kind='bar', rot = 0, grid = False, alpha = 0.6)\n",
    "\n",
    "plt.show()"
   ]
  },
  {
   "cell_type": "markdown",
   "metadata": {},
   "source": [
    "### Vad ska man tänka på här? Det finns oändligt många parametrar att sätta?\n",
    "### Alla dataframes och serier har en plot metod. \n",
    "### Om man sätter ett index blir detta index alltid X axeln\n",
    "### Det enda sättet är att pröva sig fram med olika grafer, se hjälpen nedan\n",
    "### Bra att känna till är att man kan annotera samt skapa flera grafer i samma area\n"
   ]
  },
  {
   "cell_type": "code",
   "execution_count": null,
   "metadata": {},
   "outputs": [],
   "source": [
    "?bar_serie.plot"
   ]
  },
  {
   "cell_type": "markdown",
   "metadata": {},
   "source": [
    "### Exenmpel annotering samt två grafer i samma bild"
   ]
  },
  {
   "cell_type": "code",
   "execution_count": null,
   "metadata": {},
   "outputs": [],
   "source": [
    "fig = plt.figure(figsize = (18,9))\n",
    "# Skapar grafobjekt som ska läggas in i arean ovan\n",
    "# Graf1\n",
    "ax1 = fig.add_subplot(2,1,1)\n",
    "# Graf2\n",
    "ax2 = fig.add_subplot(2,1,2)\n",
    "\n",
    "ax1.set_title('Inkomst fördelat på kön')\n",
    "\n",
    "ax2.set_title('Antal anställda per år')\n",
    "\n",
    "bar_serie = round(df_staff.groupby('Gender')['Salary'].mean())\n",
    "\n",
    "line_serie = round(df_staff.groupby('Year')['Gender'].count())\n",
    "\n",
    "bar_serie.plot(kind='bar', ax = ax1, rot = 0, grid = False, alpha = 0.6)\n",
    "\n",
    "line_serie.plot(kind='line', ax = ax2, rot = 0, style = 'k-')\n",
    "\n",
    "### Nedan logik för annotering i graf2\n",
    "\n",
    "ax2.annotate('Vad händer 2010?', \n",
    "            xy = (2010, 95),\n",
    "            xytext = (2000, 80),\n",
    "            arrowprops = dict(facecolor = 'black', shrink = 0.1, width = 2),\n",
    "            horizontalalignment = 'left')\n",
    "\n",
    "plt.show()"
   ]
  },
  {
   "cell_type": "code",
   "execution_count": null,
   "metadata": {},
   "outputs": [],
   "source": [
    "?ax2.annotate"
   ]
  },
  {
   "cell_type": "code",
   "execution_count": null,
   "metadata": {},
   "outputs": [],
   "source": [
    "bar_serie"
   ]
  },
  {
   "cell_type": "code",
   "execution_count": null,
   "metadata": {},
   "outputs": [],
   "source": [
    "type(bar_serie)"
   ]
  },
  {
   "cell_type": "code",
   "execution_count": null,
   "metadata": {},
   "outputs": [],
   "source": [
    "line_serie"
   ]
  },
  {
   "cell_type": "markdown",
   "metadata": {},
   "source": [
    "### Objekthantering när du skapar en ny dataframe, vy eller fysiskt data\n",
    "__Det sätt som Pandas skapar en ny dataframe, vy eller nytt fysiskt data kan ge varningen \"SettingWithCopyWarning\". Jag kommer inte att ge me in på djupet på detta men nedan ett exempel. När denna varning uppstår så försöker ni göra något mot en dataframe via en vy som inte slår igenom i det underliggande datat. Och man ska också vara medveten om att i vissa fall så arbetar men mot en vy som faktiskt slår igenom i det underliggande datat__"
   ]
  },
  {
   "cell_type": "markdown",
   "metadata": {},
   "source": [
    "### Först manipulation av vy som påverkar ett underliggande objekt"
   ]
  },
  {
   "cell_type": "code",
   "execution_count": null,
   "metadata": {},
   "outputs": [],
   "source": [
    "df_order_fact = pd.read_sas('order_fact.sas7bdat', encoding = 'Latin8')"
   ]
  },
  {
   "cell_type": "code",
   "execution_count": null,
   "metadata": {},
   "outputs": [],
   "source": [
    "id(df_order_fact)"
   ]
  },
  {
   "cell_type": "code",
   "execution_count": null,
   "metadata": {},
   "outputs": [],
   "source": [
    "df_new = df_order_fact"
   ]
  },
  {
   "cell_type": "code",
   "execution_count": null,
   "metadata": {},
   "outputs": [],
   "source": [
    "id(df_new)"
   ]
  },
  {
   "cell_type": "code",
   "execution_count": null,
   "metadata": {},
   "outputs": [],
   "source": [
    "df_order_fact.info()"
   ]
  },
  {
   "cell_type": "code",
   "execution_count": null,
   "metadata": {},
   "outputs": [],
   "source": [
    "df_new['Q2'] = df_new.Quantity * df_new.Quantity"
   ]
  },
  {
   "cell_type": "code",
   "execution_count": null,
   "metadata": {},
   "outputs": [],
   "source": [
    "df_new.info()"
   ]
  },
  {
   "cell_type": "code",
   "execution_count": null,
   "metadata": {},
   "outputs": [],
   "source": [
    "df_order_fact.info()"
   ]
  },
  {
   "cell_type": "markdown",
   "metadata": {},
   "source": [
    "### Vill man vara helt säker på vad man gör använd copy metod för att skapa ett nytt objekt"
   ]
  },
  {
   "cell_type": "code",
   "execution_count": null,
   "metadata": {},
   "outputs": [],
   "source": [
    "df_order_fact2 = pd.read_sas('order_fact.sas7bdat', encoding = 'Latin8')"
   ]
  },
  {
   "cell_type": "code",
   "execution_count": null,
   "metadata": {},
   "outputs": [],
   "source": [
    "id(df_order_fact2)"
   ]
  },
  {
   "cell_type": "code",
   "execution_count": null,
   "metadata": {},
   "outputs": [],
   "source": [
    "df_new2 = df_order_fact2.copy()"
   ]
  },
  {
   "cell_type": "code",
   "execution_count": null,
   "metadata": {},
   "outputs": [],
   "source": [
    "id(df_new2)"
   ]
  },
  {
   "cell_type": "code",
   "execution_count": null,
   "metadata": {},
   "outputs": [],
   "source": [
    "df_new2['Q2'] = df_new2.Quantity * df_new2.Quantity "
   ]
  },
  {
   "cell_type": "code",
   "execution_count": null,
   "metadata": {},
   "outputs": [],
   "source": [
    "df_new2.info()"
   ]
  },
  {
   "cell_type": "code",
   "execution_count": null,
   "metadata": {},
   "outputs": [],
   "source": [
    "df_order_fact2.info()"
   ]
  },
  {
   "cell_type": "markdown",
   "metadata": {},
   "source": [
    "__Nu provocerar vi fram en SettingWithWarningCopy__"
   ]
  },
  {
   "cell_type": "code",
   "execution_count": null,
   "metadata": {},
   "outputs": [],
   "source": [
    "df_new"
   ]
  },
  {
   "cell_type": "markdown",
   "metadata": {},
   "source": [
    "__Låt oss anta att för alla rader med Quantity = 1 är fel, de ska vara 10 istället. Vi måste uppdarera dataframen__"
   ]
  },
  {
   "cell_type": "code",
   "execution_count": null,
   "metadata": {},
   "outputs": [],
   "source": [
    "df_new[df_new.Quantity == 1]['Q2'] = 100"
   ]
  },
  {
   "cell_type": "code",
   "execution_count": null,
   "metadata": {},
   "outputs": [],
   "source": [
    "df_new[df_new.Quantity == 1][['Quantity','Q2']]"
   ]
  },
  {
   "cell_type": "markdown",
   "metadata": {},
   "source": [
    "### Försök till förklaring\n",
    "\n",
    "__Metoden df_new[df_new.Quantity == 1] skapar en vy av den ursprunliga dataframen (get method) , sedan gör vi en assignment ['Q2'] = 100 (assigmnent method) som inte slår igenom mot det underliggande objektet, det fysiska data. Lösningen är att arbete med loc metoden som resulterar i en operation och som säkerställer att det underliggande datat blir uppdaterat__ "
   ]
  },
  {
   "cell_type": "markdown",
   "metadata": {},
   "source": [
    "### Slicing loc metoden\n",
    "* Välj rad och kolumn genom att ange index och variabel"
   ]
  },
  {
   "cell_type": "code",
   "execution_count": null,
   "metadata": {},
   "outputs": [],
   "source": [
    "df_new.loc[df_new.Quantity == 1,'Q2'] = 100"
   ]
  },
  {
   "cell_type": "code",
   "execution_count": null,
   "metadata": {},
   "outputs": [],
   "source": [
    "df_new[df_new.Quantity == 1][['Quantity','Q2']]"
   ]
  },
  {
   "cell_type": "code",
   "execution_count": null,
   "metadata": {},
   "outputs": [],
   "source": [
    "id(df_new)"
   ]
  },
  {
   "cell_type": "code",
   "execution_count": null,
   "metadata": {},
   "outputs": [],
   "source": [
    "id(df_order_fact)"
   ]
  },
  {
   "cell_type": "code",
   "execution_count": null,
   "metadata": {},
   "outputs": [],
   "source": [
    "df_order_fact[df_order_fact.Quantity == 1][['Quantity','Q2']]"
   ]
  },
  {
   "cell_type": "markdown",
   "metadata": {},
   "source": [
    "# Take away!\n",
    "\n",
    "__Aldrig ignorerar denna varning!.__"
   ]
  },
  {
   "cell_type": "markdown",
   "metadata": {},
   "source": [
    "# Slicing in a dataframe: Skär ut rader och kolumner genom positioner (index) - iloc"
   ]
  },
  {
   "cell_type": "code",
   "execution_count": null,
   "metadata": {},
   "outputs": [],
   "source": [
    "# df_new är en vy mot df_order_fact\n",
    "df_new"
   ]
  },
  {
   "cell_type": "code",
   "execution_count": null,
   "metadata": {},
   "outputs": [],
   "source": [
    "df_new.iloc?"
   ]
  },
  {
   "cell_type": "code",
   "execution_count": null,
   "metadata": {},
   "outputs": [],
   "source": [
    "## Välja kolumner utan metod genom att peka på kolumner\n",
    "df_new[['Customer_ID','Employee_ID']]"
   ]
  },
  {
   "cell_type": "code",
   "execution_count": null,
   "metadata": {},
   "outputs": [],
   "source": [
    "# Select row and columns with iloc method\n",
    "df_new.iloc[0,0]"
   ]
  },
  {
   "cell_type": "code",
   "execution_count": null,
   "metadata": {},
   "outputs": [],
   "source": [
    "df_new.iloc[1,0]"
   ]
  },
  {
   "cell_type": "code",
   "execution_count": null,
   "metadata": {},
   "outputs": [],
   "source": [
    "df_new.iloc[:2,:2]"
   ]
  },
  {
   "cell_type": "code",
   "execution_count": null,
   "metadata": {},
   "outputs": [],
   "source": [
    "df_new.iloc[-4:,:2]"
   ]
  },
  {
   "cell_type": "code",
   "execution_count": null,
   "metadata": {},
   "outputs": [],
   "source": [
    "df_order_fact2.loc?"
   ]
  }
 ],
 "metadata": {
  "kernelspec": {
   "display_name": "Python 3",
   "language": "python",
   "name": "python3"
  },
  "language_info": {
   "codemirror_mode": {
    "name": "ipython",
    "version": 3
   },
   "file_extension": ".py",
   "mimetype": "text/x-python",
   "name": "python",
   "nbconvert_exporter": "python",
   "pygments_lexer": "ipython3",
   "version": "3.7.7"
  }
 },
 "nbformat": 4,
 "nbformat_minor": 2
}
